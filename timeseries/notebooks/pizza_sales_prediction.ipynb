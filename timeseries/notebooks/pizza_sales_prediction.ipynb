{
 "cells": [
  {
   "cell_type": "markdown",
   "metadata": {
    "id": "ZbMusS3LXZ7D"
   },
   "source": [
    "**Time Series Forecasting**"
   ]
  },
  {
   "cell_type": "markdown",
   "metadata": {
    "id": "A3ZlrA6BXAnV"
   },
   "source": [
    "Time series forecasting involves predicting future values based on previously observed values. It's a crucial aspect of data analysis in numerous fields, enabling organizations and individuals to make informed decisions by projecting past trends into the future. The core importance of time series forecasting lies in its ability to identify patterns, trends, and cycles in historical data, and use these insights to predict future events. This predictive capability is invaluable for planning, budgeting, and managing resources effectively, ensuring that strategies are both proactive and responsive to anticipated changes.\n",
    "\n",
    "\n"
   ]
  },
  {
   "cell_type": "markdown",
   "metadata": {
    "id": "eriwHjr1Xias"
   },
   "source": [
    "**Why Keras is Suitable for Time Series Forecasting?**"
   ]
  },
  {
   "cell_type": "markdown",
   "metadata": {
    "id": "fpUoWmc_XvcY"
   },
   "source": [
    "Keras is a powerful, user-friendly neural network library written in Python, designed to enable fast experimentation with deep learning. It acts as an interface for the TensorFlow library, combining ease of use with flexibility, and is capable of running on top of TensorFlow."
   ]
  },
  {
   "cell_type": "markdown",
   "metadata": {
    "id": "8t1Wy0BzYI25"
   },
   "source": [
    "\n",
    "\n",
    "1.   It offers a high-level, intuitive API, making it accessible for beginners while still being robust enough for research and development.\n",
    "2.    It supports a wide range of network architectures, including fully connected, convolutional, and recurrent neural networks (RNNs), essential for handling various time series forecasting tasks.\n",
    "3.    It is optimized for performance, allowing for rapid experimentation and iteration, which is crucial in the development and tuning of predictive models.\n",
    "\n",
    "\n",
    "\n",
    "\n",
    "\n"
   ]
  },
  {
   "cell_type": "markdown",
   "metadata": {
    "id": "L_Hs5fxMMWaM"
   },
   "source": [
    "**Setting Up the Development Environment**"
   ]
  },
  {
   "cell_type": "markdown",
   "metadata": {
    "id": "gR8daSziMaHb"
   },
   "source": [
    "Following the introduction to time series forecasting and the advantages of using Keras for such tasks, we now embark on the practical journey of implementing a time series forecasting model. In this section, we will set up our development environment and prepare our dataset for modeling. The Python libraries and tools we'll use form the backbone of our data processing and model development. Here's a breakdown of the code snippet and its components:"
   ]
  },
  {
   "cell_type": "code",
   "execution_count": 1,
   "metadata": {
    "id": "hV06EEoMW3lV"
   },
   "outputs": [],
   "source": [
    "import os\n",
    "import numpy as np\n",
    "import pandas as pd\n",
    "import matplotlib.pyplot as plt\n",
    "from sklearn.preprocessing import StandardScaler\n",
    "import tensorflow as tf\n",
    "from tensorflow import keras\n",
    "from tensorflow.keras import layers, activations\n",
    "from keras.callbacks import EarlyStopping, ModelCheckpoint\n"
   ]
  },
  {
   "cell_type": "markdown",
   "metadata": {
    "id": "_b96M-LNM-ju"
   },
   "source": [
    "•\tos: This module provides a portable way of using operating system-dependent functionality like reading or writing to a file system.\n",
    "\n",
    "•\tnumpy: A fundamental package for scientific computing in Python. It's used for working with arrays and matrices, alongside a collection of mathematical functions to operate on these data structures.\n",
    "\n",
    "•\tpandas: An essential library for data manipulation and analysis. It offers data structures and operations for manipulating numerical tables and time series.\n",
    "\n",
    "•\tmatplotlib.pyplot: A plotting library for creating static, interactive, and animated visualizations in Python.\n",
    "\n",
    "•\tsklearn.preprocessing.StandardScaler: A preprocessing module used to standardize features by removing the mean and scaling to unit variance. This is particularly important in neural networks to ensure that all input features have similar scale.\n",
    "\n",
    "•\ttensorflow: An open-source library for numerical computation and machine learning. TensorFlow offers a comprehensive, flexible ecosystem of tools, libraries, and community resources that lets researchers push the state-of-the-art in ML, and developers easily build and deploy ML-powered applications.\n",
    "\n",
    "•\tkeras: Integrated into TensorFlow, it simplifies many operations and is used to build and train neural networks. We specifically import submodules for defining layers and activations, along with callbacks like EarlyStopping and ModelCheckpoint for model training optimization.\n",
    "\n",
    "•\tEarlyStopping: Monitors the model's performance on a validation set and stops training when the performance stops improving, preventing overfitting.\n",
    "\n",
    "•\tModelCheckpoint: Saves the model at specific intervals, allowing us to keep the model at its best performance."
   ]
  },
  {
   "cell_type": "markdown",
   "metadata": {
    "id": "x_YPmD7gNYXq"
   },
   "source": [
    "**Preprocessing data**"
   ]
  },
  {
   "cell_type": "markdown",
   "metadata": {
    "id": "RwekRT72N5GP"
   },
   "source": [
    "In this section of our notebook, we delve into the critical step of preprocessing our dataset to ensure it's in the optimal format for our time series forecasting model. Our dataset, titled daily-website-visitors.csv, contains daily metrics of website traffic, such as page loads and unique visits. Let's explore the preprocessing steps:"
   ]
  },
  {
   "cell_type": "code",
   "execution_count": 17,
   "metadata": {
    "id": "-t13uodWYgz0"
   },
   "outputs": [],
   "source": [
    "df = pd.read_csv('sales_per_day.csv')"
   ]
  },
  {
   "cell_type": "markdown",
   "metadata": {
    "id": "LOPwx337N9l0"
   },
   "source": [
    "We start by loading our dataset using pandas, which allows us to work with the data in a tabular form, facilitating data manipulation and analysis. (Help with uploading: https://neptune.ai/blog/google-colab-dealing-with-files)"
   ]
  },
  {
   "cell_type": "code",
   "execution_count": 18,
   "metadata": {
    "colab": {
     "base_uri": "https://localhost:8080/",
     "height": 423
    },
    "id": "Phblk4qImFOi",
    "outputId": "76118f47-56fb-4965-8718-c6d1cf68894a"
   },
   "outputs": [
    {
     "data": {
      "text/html": [
       "<div>\n",
       "<style scoped>\n",
       "    .dataframe tbody tr th:only-of-type {\n",
       "        vertical-align: middle;\n",
       "    }\n",
       "\n",
       "    .dataframe tbody tr th {\n",
       "        vertical-align: top;\n",
       "    }\n",
       "\n",
       "    .dataframe thead th {\n",
       "        text-align: right;\n",
       "    }\n",
       "</style>\n",
       "<table border=\"1\" class=\"dataframe\">\n",
       "  <thead>\n",
       "    <tr style=\"text-align: right;\">\n",
       "      <th></th>\n",
       "      <th>date</th>\n",
       "      <th>daily_sales</th>\n",
       "    </tr>\n",
       "  </thead>\n",
       "  <tbody>\n",
       "    <tr>\n",
       "      <th>0</th>\n",
       "      <td>2015-01-01</td>\n",
       "      <td>2713.85</td>\n",
       "    </tr>\n",
       "    <tr>\n",
       "      <th>1</th>\n",
       "      <td>2015-01-02</td>\n",
       "      <td>2731.90</td>\n",
       "    </tr>\n",
       "    <tr>\n",
       "      <th>2</th>\n",
       "      <td>2015-01-03</td>\n",
       "      <td>2662.40</td>\n",
       "    </tr>\n",
       "    <tr>\n",
       "      <th>3</th>\n",
       "      <td>2015-01-04</td>\n",
       "      <td>1755.45</td>\n",
       "    </tr>\n",
       "    <tr>\n",
       "      <th>4</th>\n",
       "      <td>2015-01-05</td>\n",
       "      <td>2065.95</td>\n",
       "    </tr>\n",
       "    <tr>\n",
       "      <th>...</th>\n",
       "      <td>...</td>\n",
       "      <td>...</td>\n",
       "    </tr>\n",
       "    <tr>\n",
       "      <th>353</th>\n",
       "      <td>2015-12-27</td>\n",
       "      <td>1419.00</td>\n",
       "    </tr>\n",
       "    <tr>\n",
       "      <th>354</th>\n",
       "      <td>2015-12-28</td>\n",
       "      <td>1637.20</td>\n",
       "    </tr>\n",
       "    <tr>\n",
       "      <th>355</th>\n",
       "      <td>2015-12-29</td>\n",
       "      <td>1353.25</td>\n",
       "    </tr>\n",
       "    <tr>\n",
       "      <th>356</th>\n",
       "      <td>2015-12-30</td>\n",
       "      <td>1337.80</td>\n",
       "    </tr>\n",
       "    <tr>\n",
       "      <th>357</th>\n",
       "      <td>2015-12-31</td>\n",
       "      <td>2916.00</td>\n",
       "    </tr>\n",
       "  </tbody>\n",
       "</table>\n",
       "<p>358 rows × 2 columns</p>\n",
       "</div>"
      ],
      "text/plain": [
       "           date  daily_sales\n",
       "0    2015-01-01      2713.85\n",
       "1    2015-01-02      2731.90\n",
       "2    2015-01-03      2662.40\n",
       "3    2015-01-04      1755.45\n",
       "4    2015-01-05      2065.95\n",
       "..          ...          ...\n",
       "353  2015-12-27      1419.00\n",
       "354  2015-12-28      1637.20\n",
       "355  2015-12-29      1353.25\n",
       "356  2015-12-30      1337.80\n",
       "357  2015-12-31      2916.00\n",
       "\n",
       "[358 rows x 2 columns]"
      ]
     },
     "execution_count": 18,
     "metadata": {},
     "output_type": "execute_result"
    }
   ],
   "source": [
    "df"
   ]
  },
  {
   "cell_type": "markdown",
   "metadata": {
    "id": "udCniYBXOC2g"
   },
   "source": [
    "For columns representing numerical values (Page.Loads, Unique.Visits, First.Time.Visits, Returning.Visits), we remove commas and convert the strings to floats. This step is crucial as numeric operations require numerical data types. (Help: https://pandas.pydata.org/pandas-docs/stable/reference/api/pandas.DataFrame.map.html)"
   ]
  },
  {
   "cell_type": "code",
   "execution_count": 14,
   "metadata": {
    "colab": {
     "base_uri": "https://localhost:8080/",
     "height": 423
    },
    "id": "4R_rdxQ1oNSz",
    "outputId": "b7869ddd-ede4-46f4-ad65-53f327f42e84"
   },
   "outputs": [
    {
     "data": {
      "text/html": [
       "<div>\n",
       "<style scoped>\n",
       "    .dataframe tbody tr th:only-of-type {\n",
       "        vertical-align: middle;\n",
       "    }\n",
       "\n",
       "    .dataframe tbody tr th {\n",
       "        vertical-align: top;\n",
       "    }\n",
       "\n",
       "    .dataframe thead th {\n",
       "        text-align: right;\n",
       "    }\n",
       "</style>\n",
       "<table border=\"1\" class=\"dataframe\">\n",
       "  <thead>\n",
       "    <tr style=\"text-align: right;\">\n",
       "      <th></th>\n",
       "      <th>daily_sales</th>\n",
       "    </tr>\n",
       "    <tr>\n",
       "      <th>date</th>\n",
       "      <th></th>\n",
       "    </tr>\n",
       "  </thead>\n",
       "  <tbody>\n",
       "    <tr>\n",
       "      <th>2015-01-01</th>\n",
       "      <td>2713.85</td>\n",
       "    </tr>\n",
       "    <tr>\n",
       "      <th>2015-01-02</th>\n",
       "      <td>2731.90</td>\n",
       "    </tr>\n",
       "    <tr>\n",
       "      <th>2015-01-03</th>\n",
       "      <td>2662.40</td>\n",
       "    </tr>\n",
       "    <tr>\n",
       "      <th>2015-01-04</th>\n",
       "      <td>1755.45</td>\n",
       "    </tr>\n",
       "    <tr>\n",
       "      <th>2015-01-05</th>\n",
       "      <td>2065.95</td>\n",
       "    </tr>\n",
       "    <tr>\n",
       "      <th>...</th>\n",
       "      <td>...</td>\n",
       "    </tr>\n",
       "    <tr>\n",
       "      <th>2015-12-27</th>\n",
       "      <td>1419.00</td>\n",
       "    </tr>\n",
       "    <tr>\n",
       "      <th>2015-12-28</th>\n",
       "      <td>1637.20</td>\n",
       "    </tr>\n",
       "    <tr>\n",
       "      <th>2015-12-29</th>\n",
       "      <td>1353.25</td>\n",
       "    </tr>\n",
       "    <tr>\n",
       "      <th>2015-12-30</th>\n",
       "      <td>1337.80</td>\n",
       "    </tr>\n",
       "    <tr>\n",
       "      <th>2015-12-31</th>\n",
       "      <td>2916.00</td>\n",
       "    </tr>\n",
       "  </tbody>\n",
       "</table>\n",
       "<p>358 rows × 1 columns</p>\n",
       "</div>"
      ],
      "text/plain": [
       "            daily_sales\n",
       "date                   \n",
       "2015-01-01      2713.85\n",
       "2015-01-02      2731.90\n",
       "2015-01-03      2662.40\n",
       "2015-01-04      1755.45\n",
       "2015-01-05      2065.95\n",
       "...                 ...\n",
       "2015-12-27      1419.00\n",
       "2015-12-28      1637.20\n",
       "2015-12-29      1353.25\n",
       "2015-12-30      1337.80\n",
       "2015-12-31      2916.00\n",
       "\n",
       "[358 rows x 1 columns]"
      ]
     },
     "execution_count": 14,
     "metadata": {},
     "output_type": "execute_result"
    }
   ],
   "source": [
    "df"
   ]
  },
  {
   "cell_type": "code",
   "execution_count": 19,
   "metadata": {
    "id": "lXUBwFHAb1JU"
   },
   "outputs": [],
   "source": [
    "df['date'] = pd.to_datetime(df['date'])"
   ]
  },
  {
   "cell_type": "markdown",
   "metadata": {
    "id": "oKliloZCOQiZ"
   },
   "source": [
    "Converting the Date column to datetime objects allows for easier manipulation of dates and enables us to set this column as the index of our DataFrame, facilitating time series analysis."
   ]
  },
  {
   "cell_type": "code",
   "execution_count": 20,
   "metadata": {},
   "outputs": [],
   "source": [
    "df['Day.Of.Week'] = df['date'].dt.weekday + 1"
   ]
  },
  {
   "cell_type": "code",
   "execution_count": 21,
   "metadata": {
    "id": "71JD3YQBOF6b"
   },
   "outputs": [],
   "source": [
    "df.set_index('date', inplace=True)"
   ]
  },
  {
   "cell_type": "markdown",
   "metadata": {
    "id": "kuOIVD4vOUke"
   },
   "source": [
    "By setting the Date column as the index, we can efficiently perform time-based operations and visualizations on our dataset."
   ]
  },
  {
   "cell_type": "code",
   "execution_count": 22,
   "metadata": {
    "id": "FLRXo7_WmtBH"
   },
   "outputs": [],
   "source": [
    "df[\"Day.Of.Week.X\"], df[\"Day.Of.Week.Y\"] = np.sin(2 * np.pi * df[\"Day.Of.Week\"] / 7), np.cos(2 * np.pi * df[\"Day.Of.Week\"] / 7)\n",
    "df[\"Day.Of.Year.X\"], df[\"Day.Of.Year.Y\"] = np.sin(2 * np.pi * df.index.day_of_year / 365), np.cos(2 * np.pi * df.index.day_of_year / 365)"
   ]
  },
  {
   "cell_type": "markdown",
   "metadata": {
    "id": "MhAX38hxOb3P"
   },
   "source": [
    "We transform Day.Of.Week and the day of the year into cyclical features using sine and cosine transformations. This approach captures the cyclical nature of these features, enabling the model to understand patterns such as weekends vs. weekdays or seasons in the year. (Help: https://medium.com/@axelazara6/why-we-need-encoding-cyclical-features-79ecc3531232)"
   ]
  },
  {
   "cell_type": "code",
   "execution_count": 24,
   "metadata": {
    "id": "DVIUai_XmaNz"
   },
   "outputs": [],
   "source": [
    "df = df.drop([\"Day.Of.Week\"], axis=1)"
   ]
  },
  {
   "cell_type": "markdown",
   "metadata": {
    "id": "KeB0Z7PEOiR5"
   },
   "source": [
    "We remove columns that are not necessary for our analysis or that have been replaced by engineered features. This step simplifies our dataset and focuses on the relevant information for forecasting."
   ]
  },
  {
   "cell_type": "code",
   "execution_count": 25,
   "metadata": {
    "colab": {
     "base_uri": "https://localhost:8080/",
     "height": 455
    },
    "id": "3vqFLNDbnEwC",
    "outputId": "f6442344-c508-448a-ef2b-fb5bd994d34f"
   },
   "outputs": [
    {
     "data": {
      "text/html": [
       "<div>\n",
       "<style scoped>\n",
       "    .dataframe tbody tr th:only-of-type {\n",
       "        vertical-align: middle;\n",
       "    }\n",
       "\n",
       "    .dataframe tbody tr th {\n",
       "        vertical-align: top;\n",
       "    }\n",
       "\n",
       "    .dataframe thead th {\n",
       "        text-align: right;\n",
       "    }\n",
       "</style>\n",
       "<table border=\"1\" class=\"dataframe\">\n",
       "  <thead>\n",
       "    <tr style=\"text-align: right;\">\n",
       "      <th></th>\n",
       "      <th>daily_sales</th>\n",
       "      <th>Day.Of.Week.X</th>\n",
       "      <th>Day.Of.Week.Y</th>\n",
       "      <th>Day.Of.Year.X</th>\n",
       "      <th>Day.Of.Year.Y</th>\n",
       "    </tr>\n",
       "    <tr>\n",
       "      <th>date</th>\n",
       "      <th></th>\n",
       "      <th></th>\n",
       "      <th></th>\n",
       "      <th></th>\n",
       "      <th></th>\n",
       "    </tr>\n",
       "  </thead>\n",
       "  <tbody>\n",
       "    <tr>\n",
       "      <th>2015-01-01</th>\n",
       "      <td>2713.85</td>\n",
       "      <td>-4.338837e-01</td>\n",
       "      <td>-0.900969</td>\n",
       "      <td>1.721336e-02</td>\n",
       "      <td>0.999852</td>\n",
       "    </tr>\n",
       "    <tr>\n",
       "      <th>2015-01-02</th>\n",
       "      <td>2731.90</td>\n",
       "      <td>-9.749279e-01</td>\n",
       "      <td>-0.222521</td>\n",
       "      <td>3.442161e-02</td>\n",
       "      <td>0.999407</td>\n",
       "    </tr>\n",
       "    <tr>\n",
       "      <th>2015-01-03</th>\n",
       "      <td>2662.40</td>\n",
       "      <td>-7.818315e-01</td>\n",
       "      <td>0.623490</td>\n",
       "      <td>5.161967e-02</td>\n",
       "      <td>0.998667</td>\n",
       "    </tr>\n",
       "    <tr>\n",
       "      <th>2015-01-04</th>\n",
       "      <td>1755.45</td>\n",
       "      <td>-2.449294e-16</td>\n",
       "      <td>1.000000</td>\n",
       "      <td>6.880243e-02</td>\n",
       "      <td>0.997630</td>\n",
       "    </tr>\n",
       "    <tr>\n",
       "      <th>2015-01-05</th>\n",
       "      <td>2065.95</td>\n",
       "      <td>7.818315e-01</td>\n",
       "      <td>0.623490</td>\n",
       "      <td>8.596480e-02</td>\n",
       "      <td>0.996298</td>\n",
       "    </tr>\n",
       "    <tr>\n",
       "      <th>...</th>\n",
       "      <td>...</td>\n",
       "      <td>...</td>\n",
       "      <td>...</td>\n",
       "      <td>...</td>\n",
       "      <td>...</td>\n",
       "    </tr>\n",
       "    <tr>\n",
       "      <th>2015-12-27</th>\n",
       "      <td>1419.00</td>\n",
       "      <td>-2.449294e-16</td>\n",
       "      <td>1.000000</td>\n",
       "      <td>-6.880243e-02</td>\n",
       "      <td>0.997630</td>\n",
       "    </tr>\n",
       "    <tr>\n",
       "      <th>2015-12-28</th>\n",
       "      <td>1637.20</td>\n",
       "      <td>7.818315e-01</td>\n",
       "      <td>0.623490</td>\n",
       "      <td>-5.161967e-02</td>\n",
       "      <td>0.998667</td>\n",
       "    </tr>\n",
       "    <tr>\n",
       "      <th>2015-12-29</th>\n",
       "      <td>1353.25</td>\n",
       "      <td>9.749279e-01</td>\n",
       "      <td>-0.222521</td>\n",
       "      <td>-3.442161e-02</td>\n",
       "      <td>0.999407</td>\n",
       "    </tr>\n",
       "    <tr>\n",
       "      <th>2015-12-30</th>\n",
       "      <td>1337.80</td>\n",
       "      <td>4.338837e-01</td>\n",
       "      <td>-0.900969</td>\n",
       "      <td>-1.721336e-02</td>\n",
       "      <td>0.999852</td>\n",
       "    </tr>\n",
       "    <tr>\n",
       "      <th>2015-12-31</th>\n",
       "      <td>2916.00</td>\n",
       "      <td>-4.338837e-01</td>\n",
       "      <td>-0.900969</td>\n",
       "      <td>6.432491e-16</td>\n",
       "      <td>1.000000</td>\n",
       "    </tr>\n",
       "  </tbody>\n",
       "</table>\n",
       "<p>358 rows × 5 columns</p>\n",
       "</div>"
      ],
      "text/plain": [
       "            daily_sales  Day.Of.Week.X  Day.Of.Week.Y  Day.Of.Year.X  \\\n",
       "date                                                                   \n",
       "2015-01-01      2713.85  -4.338837e-01      -0.900969   1.721336e-02   \n",
       "2015-01-02      2731.90  -9.749279e-01      -0.222521   3.442161e-02   \n",
       "2015-01-03      2662.40  -7.818315e-01       0.623490   5.161967e-02   \n",
       "2015-01-04      1755.45  -2.449294e-16       1.000000   6.880243e-02   \n",
       "2015-01-05      2065.95   7.818315e-01       0.623490   8.596480e-02   \n",
       "...                 ...            ...            ...            ...   \n",
       "2015-12-27      1419.00  -2.449294e-16       1.000000  -6.880243e-02   \n",
       "2015-12-28      1637.20   7.818315e-01       0.623490  -5.161967e-02   \n",
       "2015-12-29      1353.25   9.749279e-01      -0.222521  -3.442161e-02   \n",
       "2015-12-30      1337.80   4.338837e-01      -0.900969  -1.721336e-02   \n",
       "2015-12-31      2916.00  -4.338837e-01      -0.900969   6.432491e-16   \n",
       "\n",
       "            Day.Of.Year.Y  \n",
       "date                       \n",
       "2015-01-01       0.999852  \n",
       "2015-01-02       0.999407  \n",
       "2015-01-03       0.998667  \n",
       "2015-01-04       0.997630  \n",
       "2015-01-05       0.996298  \n",
       "...                   ...  \n",
       "2015-12-27       0.997630  \n",
       "2015-12-28       0.998667  \n",
       "2015-12-29       0.999407  \n",
       "2015-12-30       0.999852  \n",
       "2015-12-31       1.000000  \n",
       "\n",
       "[358 rows x 5 columns]"
      ]
     },
     "execution_count": 25,
     "metadata": {},
     "output_type": "execute_result"
    }
   ],
   "source": [
    "df"
   ]
  },
  {
   "cell_type": "markdown",
   "metadata": {
    "id": "drXtAGLaO6Ug"
   },
   "source": [
    "**Splitting, Scaling, and Sequence Handling**"
   ]
  },
  {
   "cell_type": "markdown",
   "metadata": {
    "id": "a9lWEpQePDWB"
   },
   "source": [
    "Having preprocessed our dataset, we now move towards preparing it for modeling. This involves splitting the dataset into training, validation, and test sets, scaling the features, and creating sequences that our model can learn from. These steps are essential for effective model training and evaluation in time series forecasting."
   ]
  },
  {
   "cell_type": "markdown",
   "metadata": {
    "id": "JQ03_LvfPHei"
   },
   "source": [
    "We **split** our dataset based on time, ensuring that the model is trained on past data and validated and tested on unseen future data. This approach simulates real-world forecasting scenarios:"
   ]
  },
  {
   "cell_type": "code",
   "execution_count": 26,
   "metadata": {
    "id": "IIgapeoRKUUg"
   },
   "outputs": [],
   "source": [
    "train_start = pd.Timestamp(\"2015-01-01\")\n",
    "valid_start = pd.Timestamp(\"2015-09-01\")\n",
    "test_start = pd.Timestamp(\"2015-11-01\")\n",
    "train_df = df[(df.index >= train_start) & (df.index < valid_start)].copy()\n",
    "valid_df = df[(df.index >= valid_start) & (df.index < test_start)].copy()\n",
    "test_df = df[(df.index >= test_start)].copy()"
   ]
  },
  {
   "cell_type": "markdown",
   "metadata": {
    "id": "ZKjQYIfIPLHJ"
   },
   "source": [
    "By dividing the data this way, we can train the model on data from 2014 to 2017, validate its performance on data from 2018 to 2019, and finally test it on data from 2020 onwards."
   ]
  },
  {
   "cell_type": "markdown",
   "metadata": {
    "id": "ufiYp2YfPTtn"
   },
   "source": [
    "**Scaling** is a critical preprocessing step in many machine learning workflows, especially for neural networks. It ensures that all input features and target variables have a similar scale, which can significantly impact the model's convergence speed and overall performance:"
   ]
  },
  {
   "cell_type": "code",
   "execution_count": 28,
   "metadata": {
    "id": "pqdkHUHFSylW"
   },
   "outputs": [],
   "source": [
    "scaler_input = StandardScaler()\n",
    "scaler_output = StandardScaler()\n",
    "\n",
    "scaled_train = scaler_input.fit_transform(train_df)\n",
    "target_train = scaler_output.fit_transform(train_df[[\"daily_sales\"]])\n",
    "scaled_valid = scaler_input.transform(valid_df)\n",
    "target_valid = scaler_output.transform(valid_df[[\"daily_sales\"]])\n",
    "scaled_test = scaler_input.transform(test_df)\n",
    "target_test = scaler_output.transform(test_df[[\"daily_sales\"]])"
   ]
  },
  {
   "cell_type": "markdown",
   "metadata": {
    "id": "IK-Clbr0PY-x"
   },
   "source": [
    "Here, we use StandardScaler to standardize our features and target variable, ensuring they're centered around zero with a standard deviation of one."
   ]
  },
  {
   "cell_type": "markdown",
   "metadata": {
    "id": "H0XLSoaSPdr-"
   },
   "source": [
    "For time series forecasting, especially with neural networks like RNNs or LSTMs, it's beneficial to frame the dataset into **sequences of a specific length**. This structure allows the model to learn from a fixed number of past observations to predict future values:"
   ]
  },
  {
   "cell_type": "code",
   "execution_count": 29,
   "metadata": {
    "id": "0YzVf1nrTpJl"
   },
   "outputs": [],
   "source": [
    "def process_Xy(raw_X: np.array, raw_y: np.array, lookback: int) -> np.array:\n",
    "        X = np.empty(shape=(raw_X.shape[0] - lookback, lookback , raw_X.shape[1]), dtype=np.float32)\n",
    "        y = np.empty(shape=(raw_y.shape[0] - lookback), dtype=np.float32)\n",
    "\n",
    "        target_index = 0\n",
    "        for i in range(lookback, raw_X.shape[0]):\n",
    "            X[target_index] = raw_X[i - lookback : i]\n",
    "            y[target_index] = raw_y[i]\n",
    "            target_index += 1\n",
    "\n",
    "        return X.copy(), y.copy()"
   ]
  },
  {
   "cell_type": "markdown",
   "metadata": {
    "id": "ujCueZq7PloD"
   },
   "source": [
    "By creating a process_Xy function, we generate input sequences (X) and corresponding targets (y) for our model, using a lookback period that defines how many previous time steps the model should consider for predicting the next step."
   ]
  },
  {
   "cell_type": "code",
   "execution_count": 30,
   "metadata": {
    "colab": {
     "base_uri": "https://localhost:8080/"
    },
    "id": "X8XxRSU2Ujf9",
    "outputId": "b7970b0d-63e8-4f2a-9f40-ace29ebc0c9e"
   },
   "outputs": [],
   "source": [
    "lookback = 10\n",
    "train_X, train_y = process_Xy(scaled_train, target_train, lookback=lookback)\n",
    "valid_X, valid_y = process_Xy(scaled_valid, target_valid, lookback=lookback)\n",
    "test_X, test_y = process_Xy(scaled_test, target_test, lookback=lookback)"
   ]
  },
  {
   "cell_type": "markdown",
   "metadata": {
    "id": "6psphiPmPqtE"
   },
   "source": [
    "Setting lookback to 10 days means the model will use the past 10 days of data to make predictions. This setup provides a practical foundation for our model to learn and predict future values based on historical sequences of data."
   ]
  },
  {
   "cell_type": "markdown",
   "metadata": {
    "id": "bkhgIYTgQNW7"
   },
   "source": [
    "**Model Building, Training, Validating, Testing, and Visualizing**"
   ]
  },
  {
   "cell_type": "markdown",
   "metadata": {
    "id": "VpEx1NTdQUkj"
   },
   "source": [
    "After preparing and preprocessing our data, the next crucial steps are building the forecasting model, training it on the training set, validating its performance on the validation set, and testing its final predictive capability on the test set. We will also visualize the model's training process and compare its predictions with the actual data. Let's delve into each of these steps:"
   ]
  },
  {
   "cell_type": "markdown",
   "metadata": {
    "id": "o6IWofgLQXoJ"
   },
   "source": [
    "We construct our model using Keras's Sequential API, which allows us to linearly stack layers. Here, we utilize an LSTM (Long Short-Term Memory) layer followed by a Dense layer for output:"
   ]
  },
  {
   "cell_type": "code",
   "execution_count": 31,
   "metadata": {
    "id": "J5ROYz8iVk5n"
   },
   "outputs": [],
   "source": [
    "model = keras.Sequential(\n",
    "    [\n",
    "        layers.LSTM(16, activation=\"relu\", input_shape = train_X.shape[1:]),\n",
    "        layers.Dense(1),\n",
    "    ]\n",
    ")"
   ]
  },
  {
   "cell_type": "markdown",
   "metadata": {
    "id": "S5yyrGiuQfOI"
   },
   "source": [
    "The LSTM layer with 16 units is chosen for its ability to remember long-term dependencies, a crucial feature for time series data.\n",
    "\n",
    "The input_shape argument is set to the shape of our training data, ensuring the model can process the input sequences correctly.\n",
    "\n",
    "A Dense layer with a single unit is used to output the forecasted value."
   ]
  },
  {
   "cell_type": "code",
   "execution_count": 32,
   "metadata": {
    "id": "fOzQqcpGWaRf"
   },
   "outputs": [],
   "source": [
    "model.compile(loss='MeanSquaredError', optimizer='Adam')"
   ]
  },
  {
   "cell_type": "markdown",
   "metadata": {
    "id": "fgc8wBiQQnBW"
   },
   "source": [
    "We compile the model using the Mean Squared Error loss function, suitable for regression tasks like ours, and the Adam optimizer, known for its efficiency in adjusting the model's weights."
   ]
  },
  {
   "cell_type": "code",
   "execution_count": 33,
   "metadata": {
    "colab": {
     "base_uri": "https://localhost:8080/"
    },
    "id": "O5W1UGA6WvkG",
    "outputId": "5c7edbe4-f9af-4c3d-9817-7fba9df1c304"
   },
   "outputs": [
    {
     "name": "stdout",
     "output_type": "stream",
     "text": [
      "Model: \"sequential\"\n",
      "_________________________________________________________________\n",
      " Layer (type)                Output Shape              Param #   \n",
      "=================================================================\n",
      " lstm (LSTM)                 (None, 16)                1408      \n",
      "                                                                 \n",
      " dense (Dense)               (None, 1)                 17        \n",
      "                                                                 \n",
      "=================================================================\n",
      "Total params: 1425 (5.57 KB)\n",
      "Trainable params: 1425 (5.57 KB)\n",
      "Non-trainable params: 0 (0.00 Byte)\n",
      "_________________________________________________________________\n"
     ]
    }
   ],
   "source": [
    "model.summary()"
   ]
  },
  {
   "cell_type": "markdown",
   "metadata": {
    "id": "HnTHEKHrQqUh"
   },
   "source": [
    "Viewing the model summary provides insight into the architecture, including the number of parameters to be trained."
   ]
  },
  {
   "cell_type": "markdown",
   "metadata": {
    "id": "C5KOfUXtQuJk"
   },
   "source": [
    "We train the model with the EarlyStopping callback to prevent overfitting, stopping the training if the validation loss does not improve for 10 consecutive epochs:"
   ]
  },
  {
   "cell_type": "code",
   "execution_count": 34,
   "metadata": {
    "id": "jgB9RfxiWxG2"
   },
   "outputs": [],
   "source": [
    "callbacks = [EarlyStopping(monitor=\"val_loss\", patience=10)]"
   ]
  },
  {
   "cell_type": "code",
   "execution_count": 40,
   "metadata": {
    "colab": {
     "base_uri": "https://localhost:8080/"
    },
    "id": "oA4W56bzXRd-",
    "outputId": "c7fd302e-99fd-44c2-81a9-4af52ab170b1"
   },
   "outputs": [
    {
     "name": "stdout",
     "output_type": "stream",
     "text": [
      "Epoch 1/100\n",
      "15/15 [==============================] - 0s 5ms/step - loss: 0.7572 - val_loss: 1.7622\n",
      "Epoch 2/100\n",
      "15/15 [==============================] - 0s 3ms/step - loss: 0.7565 - val_loss: 1.8102\n",
      "Epoch 3/100\n",
      "15/15 [==============================] - 0s 3ms/step - loss: 0.7416 - val_loss: 1.7520\n",
      "Epoch 4/100\n",
      "15/15 [==============================] - 0s 4ms/step - loss: 0.7457 - val_loss: 1.8789\n",
      "Epoch 5/100\n",
      "15/15 [==============================] - 0s 4ms/step - loss: 0.7312 - val_loss: 1.7858\n",
      "Epoch 6/100\n",
      "15/15 [==============================] - 0s 3ms/step - loss: 0.7201 - val_loss: 2.0231\n",
      "Epoch 7/100\n",
      "15/15 [==============================] - 0s 3ms/step - loss: 0.7146 - val_loss: 1.8900\n",
      "Epoch 8/100\n",
      "15/15 [==============================] - 0s 3ms/step - loss: 0.7140 - val_loss: 1.9040\n",
      "Epoch 9/100\n",
      "15/15 [==============================] - 0s 3ms/step - loss: 0.7167 - val_loss: 2.1942\n",
      "Epoch 10/100\n",
      "15/15 [==============================] - 0s 4ms/step - loss: 0.6950 - val_loss: 1.7509\n",
      "Epoch 11/100\n",
      "15/15 [==============================] - 0s 6ms/step - loss: 0.6935 - val_loss: 2.1391\n",
      "Epoch 12/100\n",
      "15/15 [==============================] - 0s 4ms/step - loss: 0.6715 - val_loss: 1.9656\n",
      "Epoch 13/100\n",
      "15/15 [==============================] - 0s 4ms/step - loss: 0.6676 - val_loss: 2.1212\n",
      "Epoch 14/100\n",
      "15/15 [==============================] - 0s 4ms/step - loss: 0.6577 - val_loss: 2.0624\n",
      "Epoch 15/100\n",
      "15/15 [==============================] - 0s 4ms/step - loss: 0.6473 - val_loss: 2.1577\n",
      "Epoch 16/100\n",
      "15/15 [==============================] - 0s 4ms/step - loss: 0.6422 - val_loss: 2.2786\n",
      "Epoch 17/100\n",
      "15/15 [==============================] - 0s 3ms/step - loss: 0.6307 - val_loss: 2.2478\n",
      "Epoch 18/100\n",
      "15/15 [==============================] - 0s 3ms/step - loss: 0.6296 - val_loss: 2.1080\n",
      "Epoch 19/100\n",
      "15/15 [==============================] - 0s 3ms/step - loss: 0.6466 - val_loss: 2.5365\n",
      "Epoch 20/100\n",
      "15/15 [==============================] - 0s 4ms/step - loss: 0.6192 - val_loss: 2.0021\n"
     ]
    }
   ],
   "source": [
    "history = model.fit(\n",
    "            train_X,\n",
    "            train_y,\n",
    "            validation_data=(valid_X, valid_y),\n",
    "            batch_size=16,\n",
    "            epochs=100,\n",
    "            callbacks=callbacks,\n",
    "            shuffle=True,\n",
    "            verbose=True,\n",
    "        )"
   ]
  },
  {
   "cell_type": "markdown",
   "metadata": {
    "id": "KNfY1jrJQ0rP"
   },
   "source": [
    "Visualizing Training and Validation Loss"
   ]
  },
  {
   "cell_type": "code",
   "execution_count": 41,
   "metadata": {
    "colab": {
     "base_uri": "https://localhost:8080/",
     "height": 472
    },
    "id": "Vqtxq1nuXWkm",
    "outputId": "90157d2d-c855-426c-f871-2f90c41bb504"
   },
   "outputs": [
    {
     "data": {
      "image/png": "[encoded data removed]",
      "text/plain": [
       "<Figure size 640x480 with 1 Axes>"
      ]
     },
     "metadata": {},
     "output_type": "display_data"
    }
   ],
   "source": [
    "plt.plot(history.history['loss'], label='Training Loss')\n",
    "plt.plot(history.history['val_loss'], label='Validation Loss')\n",
    "plt.title('Model Training and Validation Loss')\n",
    "plt.xlabel('Epochs')\n",
    "plt.ylabel('Loss')\n",
    "plt.legend()\n",
    "plt.show()"
   ]
  },
  {
   "cell_type": "markdown",
   "metadata": {
    "id": "I2HbLqhbQ91y"
   },
   "source": [
    "This plot helps us understand how the model's performance improved over time and whether it is overfitting or underfitting the training data."
   ]
  },
  {
   "cell_type": "markdown",
   "metadata": {
    "id": "nDUxsk2ARAgx"
   },
   "source": [
    "Finally, we use the model to make predictions on the test set and visualize these predictions alongside the actual data:"
   ]
  },
  {
   "cell_type": "code",
   "execution_count": 42,
   "metadata": {
    "colab": {
     "base_uri": "https://localhost:8080/",
     "height": 618
    },
    "id": "hSWAXsPzqFRl",
    "outputId": "57ae5a04-c457-466f-da70-bea7e434beb2"
   },
   "outputs": [
    {
     "name": "stdout",
     "output_type": "stream",
     "text": [
      "2/2 [==============================] - 0s 4ms/step\n"
     ]
    },
    {
     "data": {
      "image/png": "[encoded data removed]",
      "text/plain": [
       "<Figure size 1000x600 with 1 Axes>"
      ]
     },
     "metadata": {},
     "output_type": "display_data"
    }
   ],
   "source": [
    "pred = model.predict(test_X)\n",
    "plt.figure(figsize=(10, 6))\n",
    "plt.plot(test_df[\"daily_sales\"], label=\"Real\", color='blue')\n",
    "plt.plot(pd.DataFrame(index=test_df.index[lookback:], data=scaler_output.inverse_transform(pred)), label=\"Predicted\", color='red')\n",
    "plt.xticks(rotation=45)\n",
    "plt.title('Actual vs Predicted First Time Visits')\n",
    "plt.xlabel('Date')\n",
    "plt.ylabel('First Time Visits')\n",
    "plt.legend()\n",
    "plt.show()"
   ]
  },
  {
   "cell_type": "markdown",
   "metadata": {
    "id": "SAQe5UayRL_a"
   },
   "source": [
    "The predicted values are scaled back to their original range using scaler_output.inverse_transform for a direct comparison with the actual data.\n",
    "This visualization allows us to assess the model's predictive accuracy visually, comparing its forecasts against the true outcomes."
   ]
  },
  {
   "cell_type": "markdown",
   "metadata": {
    "id": "0QJD8NIvRe1j"
   },
   "source": [
    "**Exercises to Complete:**\n",
    "\n",
    "\n",
    "1.   Repeat the same process for Page.Loads, Unique.Visits, and Returning.Visits.\n",
    "2.   For Page.Loads, visualize both the actual and the predicted values for the validation set as well.\n",
    "3.   Experiment with a GRU (Gated Recurrent Unit)-based network for Page.Loads, and try implementing a network with multiple Dense layers after the GRU layer.\n",
    "4.   Conduct the forecasting process for the meantemp column in DailyDelhiClimate.csv. Note that the meanpressure column contains outliers; filter these out first to ensure numerical stability. Set the training, validation, and testing periods to start in 2013, 2016, and 2017, respectively. Only include cyclical features for \"day-of-the-year,\" omitting \"day-of-the-week\".\n",
    "+1.  Why can we omit the \"day-of-the-week\" analysis?"
   ]
  },
  {
   "cell_type": "markdown",
   "metadata": {
    "id": "SPq8eiUoVPgn"
   },
   "source": [
    "**Exercise 1**"
   ]
  },
  {
   "cell_type": "code",
   "execution_count": null,
   "metadata": {
    "id": "AiQNeZjkVklH"
   },
   "outputs": [],
   "source": [
    "# Place for your code"
   ]
  },
  {
   "cell_type": "markdown",
   "metadata": {
    "id": "K-izbBf9VUH7"
   },
   "source": [
    "**Exercise 2**"
   ]
  },
  {
   "cell_type": "code",
   "execution_count": null,
   "metadata": {
    "id": "xvs7SNOGVk8W"
   },
   "outputs": [],
   "source": [
    "# Place for your code"
   ]
  },
  {
   "cell_type": "markdown",
   "metadata": {
    "id": "T_BRYLv4VUyW"
   },
   "source": [
    "**Exercise 3**"
   ]
  },
  {
   "cell_type": "code",
   "execution_count": null,
   "metadata": {
    "id": "3BtdxtdbVlUH"
   },
   "outputs": [],
   "source": [
    "# Place for your code"
   ]
  },
  {
   "cell_type": "markdown",
   "metadata": {
    "id": "DKUMbeEJVVxZ"
   },
   "source": [
    "**Exercise 4**"
   ]
  },
  {
   "cell_type": "code",
   "execution_count": null,
   "metadata": {
    "id": "ctlpcZhFVmGR"
   },
   "outputs": [],
   "source": [
    "# Place for your code"
   ]
  },
  {
   "cell_type": "markdown",
   "metadata": {
    "id": "zPxT9SAeVm7l"
   },
   "source": [
    "**Exercise +1**"
   ]
  },
  {
   "cell_type": "markdown",
   "metadata": {
    "id": "ANPacxbsVxuj"
   },
   "source": [
    "Place for your answer"
   ]
  }
 ],
 "metadata": {
  "colab": {
   "provenance": []
  },
  "kernelspec": {
   "display_name": "Python 3 (ipykernel)",
   "language": "python",
   "name": "python3"
  },
  "language_info": {
   "codemirror_mode": {
    "name": "ipython",
    "version": 3
   },
   "file_extension": ".py",
   "mimetype": "text/x-python",
   "name": "python",
   "nbconvert_exporter": "python",
   "pygments_lexer": "ipython3",
   "version": "3.11.6"
  }
 },
 "nbformat": 4,
 "nbformat_minor": 4
}
