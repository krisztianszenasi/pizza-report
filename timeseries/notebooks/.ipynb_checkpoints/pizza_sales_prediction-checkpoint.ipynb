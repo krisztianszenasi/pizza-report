{
  "nbformat": 4,
  "nbformat_minor": 0,
  "metadata": {
    "colab": {
      "provenance": []
    },
    "kernelspec": {
      "name": "python3",
      "display_name": "Python 3"
    },
    "language_info": {
      "name": "python"
    }
  },
  "cells": [
    {
      "cell_type": "markdown",
      "source": [
        "**Time Series Forecasting**"
      ],
      "metadata": {
        "id": "ZbMusS3LXZ7D"
      }
    },
    {
      "cell_type": "markdown",
      "source": [
        "Time series forecasting involves predicting future values based on previously observed values. It's a crucial aspect of data analysis in numerous fields, enabling organizations and individuals to make informed decisions by projecting past trends into the future. The core importance of time series forecasting lies in its ability to identify patterns, trends, and cycles in historical data, and use these insights to predict future events. This predictive capability is invaluable for planning, budgeting, and managing resources effectively, ensuring that strategies are both proactive and responsive to anticipated changes.\n",
        "\n",
        "\n"
      ],
      "metadata": {
        "id": "A3ZlrA6BXAnV"
      }
    },
    {
      "cell_type": "markdown",
      "source": [
        "**Why Keras is Suitable for Time Series Forecasting?**"
      ],
      "metadata": {
        "id": "eriwHjr1Xias"
      }
    },
    {
      "cell_type": "markdown",
      "source": [
        "Keras is a powerful, user-friendly neural network library written in Python, designed to enable fast experimentation with deep learning. It acts as an interface for the TensorFlow library, combining ease of use with flexibility, and is capable of running on top of TensorFlow."
      ],
      "metadata": {
        "id": "fpUoWmc_XvcY"
      }
    },
    {
      "cell_type": "markdown",
      "source": [
        "\n",
        "\n",
        "1.   It offers a high-level, intuitive API, making it accessible for beginners while still being robust enough for research and development.\n",
        "2.    It supports a wide range of network architectures, including fully connected, convolutional, and recurrent neural networks (RNNs), essential for handling various time series forecasting tasks.\n",
        "3.    It is optimized for performance, allowing for rapid experimentation and iteration, which is crucial in the development and tuning of predictive models.\n",
        "\n",
        "\n",
        "\n",
        "\n",
        "\n"
      ],
      "metadata": {
        "id": "8t1Wy0BzYI25"
      }
    },
    {
      "cell_type": "markdown",
      "source": [
        "**Setting Up the Development Environment**"
      ],
      "metadata": {
        "id": "L_Hs5fxMMWaM"
      }
    },
    {
      "cell_type": "markdown",
      "source": [
        "Following the introduction to time series forecasting and the advantages of using Keras for such tasks, we now embark on the practical journey of implementing a time series forecasting model. In this section, we will set up our development environment and prepare our dataset for modeling. The Python libraries and tools we'll use form the backbone of our data processing and model development. Here's a breakdown of the code snippet and its components:"
      ],
      "metadata": {
        "id": "gR8daSziMaHb"
      }
    },
    {
      "cell_type": "code",
      "execution_count": null,
      "metadata": {
        "id": "hV06EEoMW3lV"
      },
      "outputs": [],
      "source": [
        "import os\n",
        "import numpy as np\n",
        "import pandas as pd\n",
        "import matplotlib.pyplot as plt\n",
        "from sklearn.preprocessing import StandardScaler\n",
        "import tensorflow as tf\n",
        "from tensorflow import keras\n",
        "from tensorflow.keras import layers, activations\n",
        "from keras.callbacks import EarlyStopping, ModelCheckpoint\n"
      ]
    },
    {
      "cell_type": "markdown",
      "source": [
        "•\tos: This module provides a portable way of using operating system-dependent functionality like reading or writing to a file system.\n",
        "\n",
        "•\tnumpy: A fundamental package for scientific computing in Python. It's used for working with arrays and matrices, alongside a collection of mathematical functions to operate on these data structures.\n",
        "\n",
        "•\tpandas: An essential library for data manipulation and analysis. It offers data structures and operations for manipulating numerical tables and time series.\n",
        "\n",
        "•\tmatplotlib.pyplot: A plotting library for creating static, interactive, and animated visualizations in Python.\n",
        "\n",
        "•\tsklearn.preprocessing.StandardScaler: A preprocessing module used to standardize features by removing the mean and scaling to unit variance. This is particularly important in neural networks to ensure that all input features have similar scale.\n",
        "\n",
        "•\ttensorflow: An open-source library for numerical computation and machine learning. TensorFlow offers a comprehensive, flexible ecosystem of tools, libraries, and community resources that lets researchers push the state-of-the-art in ML, and developers easily build and deploy ML-powered applications.\n",
        "\n",
        "•\tkeras: Integrated into TensorFlow, it simplifies many operations and is used to build and train neural networks. We specifically import submodules for defining layers and activations, along with callbacks like EarlyStopping and ModelCheckpoint for model training optimization.\n",
        "\n",
        "•\tEarlyStopping: Monitors the model's performance on a validation set and stops training when the performance stops improving, preventing overfitting.\n",
        "\n",
        "•\tModelCheckpoint: Saves the model at specific intervals, allowing us to keep the model at its best performance."
      ],
      "metadata": {
        "id": "_b96M-LNM-ju"
      }
    },
    {
      "cell_type": "markdown",
      "source": [
        "**Preprocessing data**"
      ],
      "metadata": {
        "id": "x_YPmD7gNYXq"
      }
    },
    {
      "cell_type": "markdown",
      "source": [
        "In this section of our notebook, we delve into the critical step of preprocessing our dataset to ensure it's in the optimal format for our time series forecasting model. Our dataset, titled daily-website-visitors.csv, contains daily metrics of website traffic, such as page loads and unique visits. Let's explore the preprocessing steps:"
      ],
      "metadata": {
        "id": "RwekRT72N5GP"
      }
    },
    {
      "cell_type": "code",
      "source": [
        "df = pd.read_csv('daily-website-visitors.csv')"
      ],
      "metadata": {
        "id": "-t13uodWYgz0"
      },
      "execution_count": null,
      "outputs": []
    },
    {
      "cell_type": "markdown",
      "source": [
        "We start by loading our dataset using pandas, which allows us to work with the data in a tabular form, facilitating data manipulation and analysis. (Help with uploading: https://neptune.ai/blog/google-colab-dealing-with-files)"
      ],
      "metadata": {
        "id": "LOPwx337N9l0"
      }
    },
    {
      "cell_type": "code",
      "source": [
        "df"
      ],
      "metadata": {
        "colab": {
          "base_uri": "https://localhost:8080/",
          "height": 423
        },
        "id": "Phblk4qImFOi",
        "outputId": "76118f47-56fb-4965-8718-c6d1cf68894a"
      },
      "execution_count": null,
      "outputs": [
        {
          "output_type": "execute_result",
          "data": {
            "text/plain": [
              "       Row        Day  Day.Of.Week       Date Page.Loads Unique.Visits  \\\n",
              "0        1     Sunday            1  9/14/2014      2,146         1,582   \n",
              "1        2     Monday            2  9/15/2014      3,621         2,528   \n",
              "2        3    Tuesday            3  9/16/2014      3,698         2,630   \n",
              "3        4  Wednesday            4  9/17/2014      3,667         2,614   \n",
              "4        5   Thursday            5  9/18/2014      3,316         2,366   \n",
              "...    ...        ...          ...        ...        ...           ...   \n",
              "2162  2163   Saturday            7  8/15/2020      2,221         1,696   \n",
              "2163  2164     Sunday            1  8/16/2020      2,724         2,037   \n",
              "2164  2165     Monday            2  8/17/2020      3,456         2,638   \n",
              "2165  2166    Tuesday            3  8/18/2020      3,581         2,683   \n",
              "2166  2167  Wednesday            4  8/19/2020      2,064         1,564   \n",
              "\n",
              "     First.Time.Visits Returning.Visits  \n",
              "0                1,430              152  \n",
              "1                2,297              231  \n",
              "2                2,352              278  \n",
              "3                2,327              287  \n",
              "4                2,130              236  \n",
              "...                ...              ...  \n",
              "2162             1,373              323  \n",
              "2163             1,686              351  \n",
              "2164             2,181              457  \n",
              "2165             2,184              499  \n",
              "2166             1,297              267  \n",
              "\n",
              "[2167 rows x 8 columns]"
            ],
            "text/html": [
              "\n",
              "  <div id=\"df-63b59df2-4f2c-401b-a7fc-d80b4e8b4760\" class=\"colab-df-container\">\n",
              "    <div>\n",
              "<style scoped>\n",
              "    .dataframe tbody tr th:only-of-type {\n",
              "        vertical-align: middle;\n",
              "    }\n",
              "\n",
              "    .dataframe tbody tr th {\n",
              "        vertical-align: top;\n",
              "    }\n",
              "\n",
              "    .dataframe thead th {\n",
              "        text-align: right;\n",
              "    }\n",
              "</style>\n",
              "<table border=\"1\" class=\"dataframe\">\n",
              "  <thead>\n",
              "    <tr style=\"text-align: right;\">\n",
              "      <th></th>\n",
              "      <th>Row</th>\n",
              "      <th>Day</th>\n",
              "      <th>Day.Of.Week</th>\n",
              "      <th>Date</th>\n",
              "      <th>Page.Loads</th>\n",
              "      <th>Unique.Visits</th>\n",
              "      <th>First.Time.Visits</th>\n",
              "      <th>Returning.Visits</th>\n",
              "    </tr>\n",
              "  </thead>\n",
              "  <tbody>\n",
              "    <tr>\n",
              "      <th>0</th>\n",
              "      <td>1</td>\n",
              "      <td>Sunday</td>\n",
              "      <td>1</td>\n",
              "      <td>9/14/2014</td>\n",
              "      <td>2,146</td>\n",
              "      <td>1,582</td>\n",
              "      <td>1,430</td>\n",
              "      <td>152</td>\n",
              "    </tr>\n",
              "    <tr>\n",
              "      <th>1</th>\n",
              "      <td>2</td>\n",
              "      <td>Monday</td>\n",
              "      <td>2</td>\n",
              "      <td>9/15/2014</td>\n",
              "      <td>3,621</td>\n",
              "      <td>2,528</td>\n",
              "      <td>2,297</td>\n",
              "      <td>231</td>\n",
              "    </tr>\n",
              "    <tr>\n",
              "      <th>2</th>\n",
              "      <td>3</td>\n",
              "      <td>Tuesday</td>\n",
              "      <td>3</td>\n",
              "      <td>9/16/2014</td>\n",
              "      <td>3,698</td>\n",
              "      <td>2,630</td>\n",
              "      <td>2,352</td>\n",
              "      <td>278</td>\n",
              "    </tr>\n",
              "    <tr>\n",
              "      <th>3</th>\n",
              "      <td>4</td>\n",
              "      <td>Wednesday</td>\n",
              "      <td>4</td>\n",
              "      <td>9/17/2014</td>\n",
              "      <td>3,667</td>\n",
              "      <td>2,614</td>\n",
              "      <td>2,327</td>\n",
              "      <td>287</td>\n",
              "    </tr>\n",
              "    <tr>\n",
              "      <th>4</th>\n",
              "      <td>5</td>\n",
              "      <td>Thursday</td>\n",
              "      <td>5</td>\n",
              "      <td>9/18/2014</td>\n",
              "      <td>3,316</td>\n",
              "      <td>2,366</td>\n",
              "      <td>2,130</td>\n",
              "      <td>236</td>\n",
              "    </tr>\n",
              "    <tr>\n",
              "      <th>...</th>\n",
              "      <td>...</td>\n",
              "      <td>...</td>\n",
              "      <td>...</td>\n",
              "      <td>...</td>\n",
              "      <td>...</td>\n",
              "      <td>...</td>\n",
              "      <td>...</td>\n",
              "      <td>...</td>\n",
              "    </tr>\n",
              "    <tr>\n",
              "      <th>2162</th>\n",
              "      <td>2163</td>\n",
              "      <td>Saturday</td>\n",
              "      <td>7</td>\n",
              "      <td>8/15/2020</td>\n",
              "      <td>2,221</td>\n",
              "      <td>1,696</td>\n",
              "      <td>1,373</td>\n",
              "      <td>323</td>\n",
              "    </tr>\n",
              "    <tr>\n",
              "      <th>2163</th>\n",
              "      <td>2164</td>\n",
              "      <td>Sunday</td>\n",
              "      <td>1</td>\n",
              "      <td>8/16/2020</td>\n",
              "      <td>2,724</td>\n",
              "      <td>2,037</td>\n",
              "      <td>1,686</td>\n",
              "      <td>351</td>\n",
              "    </tr>\n",
              "    <tr>\n",
              "      <th>2164</th>\n",
              "      <td>2165</td>\n",
              "      <td>Monday</td>\n",
              "      <td>2</td>\n",
              "      <td>8/17/2020</td>\n",
              "      <td>3,456</td>\n",
              "      <td>2,638</td>\n",
              "      <td>2,181</td>\n",
              "      <td>457</td>\n",
              "    </tr>\n",
              "    <tr>\n",
              "      <th>2165</th>\n",
              "      <td>2166</td>\n",
              "      <td>Tuesday</td>\n",
              "      <td>3</td>\n",
              "      <td>8/18/2020</td>\n",
              "      <td>3,581</td>\n",
              "      <td>2,683</td>\n",
              "      <td>2,184</td>\n",
              "      <td>499</td>\n",
              "    </tr>\n",
              "    <tr>\n",
              "      <th>2166</th>\n",
              "      <td>2167</td>\n",
              "      <td>Wednesday</td>\n",
              "      <td>4</td>\n",
              "      <td>8/19/2020</td>\n",
              "      <td>2,064</td>\n",
              "      <td>1,564</td>\n",
              "      <td>1,297</td>\n",
              "      <td>267</td>\n",
              "    </tr>\n",
              "  </tbody>\n",
              "</table>\n",
              "<p>2167 rows × 8 columns</p>\n",
              "</div>\n",
              "    <div class=\"colab-df-buttons\">\n",
              "\n",
              "  <div class=\"colab-df-container\">\n",
              "    <button class=\"colab-df-convert\" onclick=\"convertToInteractive('df-63b59df2-4f2c-401b-a7fc-d80b4e8b4760')\"\n",
              "            title=\"Convert this dataframe to an interactive table.\"\n",
              "            style=\"display:none;\">\n",
              "\n",
              "  <svg xmlns=\"http://www.w3.org/2000/svg\" height=\"24px\" viewBox=\"0 -960 960 960\">\n",
              "    <path d=\"M120-120v-720h720v720H120Zm60-500h600v-160H180v160Zm220 220h160v-160H400v160Zm0 220h160v-160H400v160ZM180-400h160v-160H180v160Zm440 0h160v-160H620v160ZM180-180h160v-160H180v160Zm440 0h160v-160H620v160Z\"/>\n",
              "  </svg>\n",
              "    </button>\n",
              "\n",
              "  <style>\n",
              "    .colab-df-container {\n",
              "      display:flex;\n",
              "      gap: 12px;\n",
              "    }\n",
              "\n",
              "    .colab-df-convert {\n",
              "      background-color: #E8F0FE;\n",
              "      border: none;\n",
              "      border-radius: 50%;\n",
              "      cursor: pointer;\n",
              "      display: none;\n",
              "      fill: #1967D2;\n",
              "      height: 32px;\n",
              "      padding: 0 0 0 0;\n",
              "      width: 32px;\n",
              "    }\n",
              "\n",
              "    .colab-df-convert:hover {\n",
              "      background-color: #E2EBFA;\n",
              "      box-shadow: 0px 1px 2px rgba(60, 64, 67, 0.3), 0px 1px 3px 1px rgba(60, 64, 67, 0.15);\n",
              "      fill: #174EA6;\n",
              "    }\n",
              "\n",
              "    .colab-df-buttons div {\n",
              "      margin-bottom: 4px;\n",
              "    }\n",
              "\n",
              "    [theme=dark] .colab-df-convert {\n",
              "      background-color: #3B4455;\n",
              "      fill: #D2E3FC;\n",
              "    }\n",
              "\n",
              "    [theme=dark] .colab-df-convert:hover {\n",
              "      background-color: #434B5C;\n",
              "      box-shadow: 0px 1px 3px 1px rgba(0, 0, 0, 0.15);\n",
              "      filter: drop-shadow(0px 1px 2px rgba(0, 0, 0, 0.3));\n",
              "      fill: #FFFFFF;\n",
              "    }\n",
              "  </style>\n",
              "\n",
              "    <script>\n",
              "      const buttonEl =\n",
              "        document.querySelector('#df-63b59df2-4f2c-401b-a7fc-d80b4e8b4760 button.colab-df-convert');\n",
              "      buttonEl.style.display =\n",
              "        google.colab.kernel.accessAllowed ? 'block' : 'none';\n",
              "\n",
              "      async function convertToInteractive(key) {\n",
              "        const element = document.querySelector('#df-63b59df2-4f2c-401b-a7fc-d80b4e8b4760');\n",
              "        const dataTable =\n",
              "          await google.colab.kernel.invokeFunction('convertToInteractive',\n",
              "                                                    [key], {});\n",
              "        if (!dataTable) return;\n",
              "\n",
              "        const docLinkHtml = 'Like what you see? Visit the ' +\n",
              "          '<a target=\"_blank\" href=https://colab.research.google.com/notebooks/data_table.ipynb>data table notebook</a>'\n",
              "          + ' to learn more about interactive tables.';\n",
              "        element.innerHTML = '';\n",
              "        dataTable['output_type'] = 'display_data';\n",
              "        await google.colab.output.renderOutput(dataTable, element);\n",
              "        const docLink = document.createElement('div');\n",
              "        docLink.innerHTML = docLinkHtml;\n",
              "        element.appendChild(docLink);\n",
              "      }\n",
              "    </script>\n",
              "  </div>\n",
              "\n",
              "\n",
              "<div id=\"df-50c7e4a1-2f33-46ac-be74-b611e89eb199\">\n",
              "  <button class=\"colab-df-quickchart\" onclick=\"quickchart('df-50c7e4a1-2f33-46ac-be74-b611e89eb199')\"\n",
              "            title=\"Suggest charts\"\n",
              "            style=\"display:none;\">\n",
              "\n",
              "<svg xmlns=\"http://www.w3.org/2000/svg\" height=\"24px\"viewBox=\"0 0 24 24\"\n",
              "     width=\"24px\">\n",
              "    <g>\n",
              "        <path d=\"M19 3H5c-1.1 0-2 .9-2 2v14c0 1.1.9 2 2 2h14c1.1 0 2-.9 2-2V5c0-1.1-.9-2-2-2zM9 17H7v-7h2v7zm4 0h-2V7h2v10zm4 0h-2v-4h2v4z\"/>\n",
              "    </g>\n",
              "</svg>\n",
              "  </button>\n",
              "\n",
              "<style>\n",
              "  .colab-df-quickchart {\n",
              "      --bg-color: #E8F0FE;\n",
              "      --fill-color: #1967D2;\n",
              "      --hover-bg-color: #E2EBFA;\n",
              "      --hover-fill-color: #174EA6;\n",
              "      --disabled-fill-color: #AAA;\n",
              "      --disabled-bg-color: #DDD;\n",
              "  }\n",
              "\n",
              "  [theme=dark] .colab-df-quickchart {\n",
              "      --bg-color: #3B4455;\n",
              "      --fill-color: #D2E3FC;\n",
              "      --hover-bg-color: #434B5C;\n",
              "      --hover-fill-color: #FFFFFF;\n",
              "      --disabled-bg-color: #3B4455;\n",
              "      --disabled-fill-color: #666;\n",
              "  }\n",
              "\n",
              "  .colab-df-quickchart {\n",
              "    background-color: var(--bg-color);\n",
              "    border: none;\n",
              "    border-radius: 50%;\n",
              "    cursor: pointer;\n",
              "    display: none;\n",
              "    fill: var(--fill-color);\n",
              "    height: 32px;\n",
              "    padding: 0;\n",
              "    width: 32px;\n",
              "  }\n",
              "\n",
              "  .colab-df-quickchart:hover {\n",
              "    background-color: var(--hover-bg-color);\n",
              "    box-shadow: 0 1px 2px rgba(60, 64, 67, 0.3), 0 1px 3px 1px rgba(60, 64, 67, 0.15);\n",
              "    fill: var(--button-hover-fill-color);\n",
              "  }\n",
              "\n",
              "  .colab-df-quickchart-complete:disabled,\n",
              "  .colab-df-quickchart-complete:disabled:hover {\n",
              "    background-color: var(--disabled-bg-color);\n",
              "    fill: var(--disabled-fill-color);\n",
              "    box-shadow: none;\n",
              "  }\n",
              "\n",
              "  .colab-df-spinner {\n",
              "    border: 2px solid var(--fill-color);\n",
              "    border-color: transparent;\n",
              "    border-bottom-color: var(--fill-color);\n",
              "    animation:\n",
              "      spin 1s steps(1) infinite;\n",
              "  }\n",
              "\n",
              "  @keyframes spin {\n",
              "    0% {\n",
              "      border-color: transparent;\n",
              "      border-bottom-color: var(--fill-color);\n",
              "      border-left-color: var(--fill-color);\n",
              "    }\n",
              "    20% {\n",
              "      border-color: transparent;\n",
              "      border-left-color: var(--fill-color);\n",
              "      border-top-color: var(--fill-color);\n",
              "    }\n",
              "    30% {\n",
              "      border-color: transparent;\n",
              "      border-left-color: var(--fill-color);\n",
              "      border-top-color: var(--fill-color);\n",
              "      border-right-color: var(--fill-color);\n",
              "    }\n",
              "    40% {\n",
              "      border-color: transparent;\n",
              "      border-right-color: var(--fill-color);\n",
              "      border-top-color: var(--fill-color);\n",
              "    }\n",
              "    60% {\n",
              "      border-color: transparent;\n",
              "      border-right-color: var(--fill-color);\n",
              "    }\n",
              "    80% {\n",
              "      border-color: transparent;\n",
              "      border-right-color: var(--fill-color);\n",
              "      border-bottom-color: var(--fill-color);\n",
              "    }\n",
              "    90% {\n",
              "      border-color: transparent;\n",
              "      border-bottom-color: var(--fill-color);\n",
              "    }\n",
              "  }\n",
              "</style>\n",
              "\n",
              "  <script>\n",
              "    async function quickchart(key) {\n",
              "      const quickchartButtonEl =\n",
              "        document.querySelector('#' + key + ' button');\n",
              "      quickchartButtonEl.disabled = true;  // To prevent multiple clicks.\n",
              "      quickchartButtonEl.classList.add('colab-df-spinner');\n",
              "      try {\n",
              "        const charts = await google.colab.kernel.invokeFunction(\n",
              "            'suggestCharts', [key], {});\n",
              "      } catch (error) {\n",
              "        console.error('Error during call to suggestCharts:', error);\n",
              "      }\n",
              "      quickchartButtonEl.classList.remove('colab-df-spinner');\n",
              "      quickchartButtonEl.classList.add('colab-df-quickchart-complete');\n",
              "    }\n",
              "    (() => {\n",
              "      let quickchartButtonEl =\n",
              "        document.querySelector('#df-50c7e4a1-2f33-46ac-be74-b611e89eb199 button');\n",
              "      quickchartButtonEl.style.display =\n",
              "        google.colab.kernel.accessAllowed ? 'block' : 'none';\n",
              "    })();\n",
              "  </script>\n",
              "</div>\n",
              "    </div>\n",
              "  </div>\n"
            ],
            "application/vnd.google.colaboratory.intrinsic+json": {
              "type": "dataframe",
              "variable_name": "df",
              "summary": "{\n  \"name\": \"df\",\n  \"rows\": 2167,\n  \"fields\": [\n    {\n      \"column\": \"Row\",\n      \"properties\": {\n        \"dtype\": \"number\",\n        \"std\": 625,\n        \"min\": 1,\n        \"max\": 2167,\n        \"num_unique_values\": 2167,\n        \"samples\": [\n          1487,\n          1603,\n          1461\n        ],\n        \"semantic_type\": \"\",\n        \"description\": \"\"\n      }\n    },\n    {\n      \"column\": \"Day\",\n      \"properties\": {\n        \"dtype\": \"category\",\n        \"num_unique_values\": 7,\n        \"samples\": [\n          \"Sunday\",\n          \"Monday\",\n          \"Friday\"\n        ],\n        \"semantic_type\": \"\",\n        \"description\": \"\"\n      }\n    },\n    {\n      \"column\": \"Day.Of.Week\",\n      \"properties\": {\n        \"dtype\": \"number\",\n        \"std\": 2,\n        \"min\": 1,\n        \"max\": 7,\n        \"num_unique_values\": 7,\n        \"samples\": [\n          1,\n          2,\n          6\n        ],\n        \"semantic_type\": \"\",\n        \"description\": \"\"\n      }\n    },\n    {\n      \"column\": \"Date\",\n      \"properties\": {\n        \"dtype\": \"object\",\n        \"num_unique_values\": 2167,\n        \"samples\": [\n          \"10/9/2018\",\n          \"2/2/2019\",\n          \"9/13/2018\"\n        ],\n        \"semantic_type\": \"\",\n        \"description\": \"\"\n      }\n    },\n    {\n      \"column\": \"Page.Loads\",\n      \"properties\": {\n        \"dtype\": \"string\",\n        \"num_unique_values\": 1756,\n        \"samples\": [\n          \"4,006\",\n          \"5,894\",\n          \"4,305\"\n        ],\n        \"semantic_type\": \"\",\n        \"description\": \"\"\n      }\n    },\n    {\n      \"column\": \"Unique.Visits\",\n      \"properties\": {\n        \"dtype\": \"string\",\n        \"num_unique_values\": 1658,\n        \"samples\": [\n          \"3,718\",\n          \"1,974\",\n          \"3,514\"\n        ],\n        \"semantic_type\": \"\",\n        \"description\": \"\"\n      }\n    },\n    {\n      \"column\": \"First.Time.Visits\",\n      \"properties\": {\n        \"dtype\": \"string\",\n        \"num_unique_values\": 1587,\n        \"samples\": [\n          \"3,064\",\n          \"1,414\",\n          \"2,787\"\n        ],\n        \"semantic_type\": \"\",\n        \"description\": \"\"\n      }\n    },\n    {\n      \"column\": \"Returning.Visits\",\n      \"properties\": {\n        \"dtype\": \"category\",\n        \"num_unique_values\": 663,\n        \"samples\": [\n          \"326\",\n          \"399\",\n          \"344\"\n        ],\n        \"semantic_type\": \"\",\n        \"description\": \"\"\n      }\n    }\n  ]\n}"
            }
          },
          "metadata": {},
          "execution_count": 100
        }
      ]
    },
    {
      "cell_type": "code",
      "source": [
        "for col in ['Page.Loads', 'Unique.Visits', 'First.Time.Visits', 'Returning.Visits']:\n",
        "    df[col] = df[col].map(lambda x: float(x.replace(\",\", \"\")))"
      ],
      "metadata": {
        "id": "XSLeN91an0Yo"
      },
      "execution_count": null,
      "outputs": []
    },
    {
      "cell_type": "markdown",
      "source": [
        "For columns representing numerical values (Page.Loads, Unique.Visits, First.Time.Visits, Returning.Visits), we remove commas and convert the strings to floats. This step is crucial as numeric operations require numerical data types. (Help: https://pandas.pydata.org/pandas-docs/stable/reference/api/pandas.DataFrame.map.html)"
      ],
      "metadata": {
        "id": "udCniYBXOC2g"
      }
    },
    {
      "cell_type": "code",
      "source": [
        "df"
      ],
      "metadata": {
        "colab": {
          "base_uri": "https://localhost:8080/",
          "height": 423
        },
        "id": "4R_rdxQ1oNSz",
        "outputId": "b7869ddd-ede4-46f4-ad65-53f327f42e84"
      },
      "execution_count": null,
      "outputs": [
        {
          "output_type": "execute_result",
          "data": {
            "text/plain": [
              "       Row        Day  Day.Of.Week       Date  Page.Loads  Unique.Visits  \\\n",
              "0        1     Sunday            1  9/14/2014      2146.0         1582.0   \n",
              "1        2     Monday            2  9/15/2014      3621.0         2528.0   \n",
              "2        3    Tuesday            3  9/16/2014      3698.0         2630.0   \n",
              "3        4  Wednesday            4  9/17/2014      3667.0         2614.0   \n",
              "4        5   Thursday            5  9/18/2014      3316.0         2366.0   \n",
              "...    ...        ...          ...        ...         ...            ...   \n",
              "2162  2163   Saturday            7  8/15/2020      2221.0         1696.0   \n",
              "2163  2164     Sunday            1  8/16/2020      2724.0         2037.0   \n",
              "2164  2165     Monday            2  8/17/2020      3456.0         2638.0   \n",
              "2165  2166    Tuesday            3  8/18/2020      3581.0         2683.0   \n",
              "2166  2167  Wednesday            4  8/19/2020      2064.0         1564.0   \n",
              "\n",
              "      First.Time.Visits  Returning.Visits  \n",
              "0                1430.0             152.0  \n",
              "1                2297.0             231.0  \n",
              "2                2352.0             278.0  \n",
              "3                2327.0             287.0  \n",
              "4                2130.0             236.0  \n",
              "...                 ...               ...  \n",
              "2162             1373.0             323.0  \n",
              "2163             1686.0             351.0  \n",
              "2164             2181.0             457.0  \n",
              "2165             2184.0             499.0  \n",
              "2166             1297.0             267.0  \n",
              "\n",
              "[2167 rows x 8 columns]"
            ],
            "text/html": [
              "\n",
              "  <div id=\"df-1e7ebdba-bf78-4b9c-ab4e-815767427d2d\" class=\"colab-df-container\">\n",
              "    <div>\n",
              "<style scoped>\n",
              "    .dataframe tbody tr th:only-of-type {\n",
              "        vertical-align: middle;\n",
              "    }\n",
              "\n",
              "    .dataframe tbody tr th {\n",
              "        vertical-align: top;\n",
              "    }\n",
              "\n",
              "    .dataframe thead th {\n",
              "        text-align: right;\n",
              "    }\n",
              "</style>\n",
              "<table border=\"1\" class=\"dataframe\">\n",
              "  <thead>\n",
              "    <tr style=\"text-align: right;\">\n",
              "      <th></th>\n",
              "      <th>Row</th>\n",
              "      <th>Day</th>\n",
              "      <th>Day.Of.Week</th>\n",
              "      <th>Date</th>\n",
              "      <th>Page.Loads</th>\n",
              "      <th>Unique.Visits</th>\n",
              "      <th>First.Time.Visits</th>\n",
              "      <th>Returning.Visits</th>\n",
              "    </tr>\n",
              "  </thead>\n",
              "  <tbody>\n",
              "    <tr>\n",
              "      <th>0</th>\n",
              "      <td>1</td>\n",
              "      <td>Sunday</td>\n",
              "      <td>1</td>\n",
              "      <td>9/14/2014</td>\n",
              "      <td>2146.0</td>\n",
              "      <td>1582.0</td>\n",
              "      <td>1430.0</td>\n",
              "      <td>152.0</td>\n",
              "    </tr>\n",
              "    <tr>\n",
              "      <th>1</th>\n",
              "      <td>2</td>\n",
              "      <td>Monday</td>\n",
              "      <td>2</td>\n",
              "      <td>9/15/2014</td>\n",
              "      <td>3621.0</td>\n",
              "      <td>2528.0</td>\n",
              "      <td>2297.0</td>\n",
              "      <td>231.0</td>\n",
              "    </tr>\n",
              "    <tr>\n",
              "      <th>2</th>\n",
              "      <td>3</td>\n",
              "      <td>Tuesday</td>\n",
              "      <td>3</td>\n",
              "      <td>9/16/2014</td>\n",
              "      <td>3698.0</td>\n",
              "      <td>2630.0</td>\n",
              "      <td>2352.0</td>\n",
              "      <td>278.0</td>\n",
              "    </tr>\n",
              "    <tr>\n",
              "      <th>3</th>\n",
              "      <td>4</td>\n",
              "      <td>Wednesday</td>\n",
              "      <td>4</td>\n",
              "      <td>9/17/2014</td>\n",
              "      <td>3667.0</td>\n",
              "      <td>2614.0</td>\n",
              "      <td>2327.0</td>\n",
              "      <td>287.0</td>\n",
              "    </tr>\n",
              "    <tr>\n",
              "      <th>4</th>\n",
              "      <td>5</td>\n",
              "      <td>Thursday</td>\n",
              "      <td>5</td>\n",
              "      <td>9/18/2014</td>\n",
              "      <td>3316.0</td>\n",
              "      <td>2366.0</td>\n",
              "      <td>2130.0</td>\n",
              "      <td>236.0</td>\n",
              "    </tr>\n",
              "    <tr>\n",
              "      <th>...</th>\n",
              "      <td>...</td>\n",
              "      <td>...</td>\n",
              "      <td>...</td>\n",
              "      <td>...</td>\n",
              "      <td>...</td>\n",
              "      <td>...</td>\n",
              "      <td>...</td>\n",
              "      <td>...</td>\n",
              "    </tr>\n",
              "    <tr>\n",
              "      <th>2162</th>\n",
              "      <td>2163</td>\n",
              "      <td>Saturday</td>\n",
              "      <td>7</td>\n",
              "      <td>8/15/2020</td>\n",
              "      <td>2221.0</td>\n",
              "      <td>1696.0</td>\n",
              "      <td>1373.0</td>\n",
              "      <td>323.0</td>\n",
              "    </tr>\n",
              "    <tr>\n",
              "      <th>2163</th>\n",
              "      <td>2164</td>\n",
              "      <td>Sunday</td>\n",
              "      <td>1</td>\n",
              "      <td>8/16/2020</td>\n",
              "      <td>2724.0</td>\n",
              "      <td>2037.0</td>\n",
              "      <td>1686.0</td>\n",
              "      <td>351.0</td>\n",
              "    </tr>\n",
              "    <tr>\n",
              "      <th>2164</th>\n",
              "      <td>2165</td>\n",
              "      <td>Monday</td>\n",
              "      <td>2</td>\n",
              "      <td>8/17/2020</td>\n",
              "      <td>3456.0</td>\n",
              "      <td>2638.0</td>\n",
              "      <td>2181.0</td>\n",
              "      <td>457.0</td>\n",
              "    </tr>\n",
              "    <tr>\n",
              "      <th>2165</th>\n",
              "      <td>2166</td>\n",
              "      <td>Tuesday</td>\n",
              "      <td>3</td>\n",
              "      <td>8/18/2020</td>\n",
              "      <td>3581.0</td>\n",
              "      <td>2683.0</td>\n",
              "      <td>2184.0</td>\n",
              "      <td>499.0</td>\n",
              "    </tr>\n",
              "    <tr>\n",
              "      <th>2166</th>\n",
              "      <td>2167</td>\n",
              "      <td>Wednesday</td>\n",
              "      <td>4</td>\n",
              "      <td>8/19/2020</td>\n",
              "      <td>2064.0</td>\n",
              "      <td>1564.0</td>\n",
              "      <td>1297.0</td>\n",
              "      <td>267.0</td>\n",
              "    </tr>\n",
              "  </tbody>\n",
              "</table>\n",
              "<p>2167 rows × 8 columns</p>\n",
              "</div>\n",
              "    <div class=\"colab-df-buttons\">\n",
              "\n",
              "  <div class=\"colab-df-container\">\n",
              "    <button class=\"colab-df-convert\" onclick=\"convertToInteractive('df-1e7ebdba-bf78-4b9c-ab4e-815767427d2d')\"\n",
              "            title=\"Convert this dataframe to an interactive table.\"\n",
              "            style=\"display:none;\">\n",
              "\n",
              "  <svg xmlns=\"http://www.w3.org/2000/svg\" height=\"24px\" viewBox=\"0 -960 960 960\">\n",
              "    <path d=\"M120-120v-720h720v720H120Zm60-500h600v-160H180v160Zm220 220h160v-160H400v160Zm0 220h160v-160H400v160ZM180-400h160v-160H180v160Zm440 0h160v-160H620v160ZM180-180h160v-160H180v160Zm440 0h160v-160H620v160Z\"/>\n",
              "  </svg>\n",
              "    </button>\n",
              "\n",
              "  <style>\n",
              "    .colab-df-container {\n",
              "      display:flex;\n",
              "      gap: 12px;\n",
              "    }\n",
              "\n",
              "    .colab-df-convert {\n",
              "      background-color: #E8F0FE;\n",
              "      border: none;\n",
              "      border-radius: 50%;\n",
              "      cursor: pointer;\n",
              "      display: none;\n",
              "      fill: #1967D2;\n",
              "      height: 32px;\n",
              "      padding: 0 0 0 0;\n",
              "      width: 32px;\n",
              "    }\n",
              "\n",
              "    .colab-df-convert:hover {\n",
              "      background-color: #E2EBFA;\n",
              "      box-shadow: 0px 1px 2px rgba(60, 64, 67, 0.3), 0px 1px 3px 1px rgba(60, 64, 67, 0.15);\n",
              "      fill: #174EA6;\n",
              "    }\n",
              "\n",
              "    .colab-df-buttons div {\n",
              "      margin-bottom: 4px;\n",
              "    }\n",
              "\n",
              "    [theme=dark] .colab-df-convert {\n",
              "      background-color: #3B4455;\n",
              "      fill: #D2E3FC;\n",
              "    }\n",
              "\n",
              "    [theme=dark] .colab-df-convert:hover {\n",
              "      background-color: #434B5C;\n",
              "      box-shadow: 0px 1px 3px 1px rgba(0, 0, 0, 0.15);\n",
              "      filter: drop-shadow(0px 1px 2px rgba(0, 0, 0, 0.3));\n",
              "      fill: #FFFFFF;\n",
              "    }\n",
              "  </style>\n",
              "\n",
              "    <script>\n",
              "      const buttonEl =\n",
              "        document.querySelector('#df-1e7ebdba-bf78-4b9c-ab4e-815767427d2d button.colab-df-convert');\n",
              "      buttonEl.style.display =\n",
              "        google.colab.kernel.accessAllowed ? 'block' : 'none';\n",
              "\n",
              "      async function convertToInteractive(key) {\n",
              "        const element = document.querySelector('#df-1e7ebdba-bf78-4b9c-ab4e-815767427d2d');\n",
              "        const dataTable =\n",
              "          await google.colab.kernel.invokeFunction('convertToInteractive',\n",
              "                                                    [key], {});\n",
              "        if (!dataTable) return;\n",
              "\n",
              "        const docLinkHtml = 'Like what you see? Visit the ' +\n",
              "          '<a target=\"_blank\" href=https://colab.research.google.com/notebooks/data_table.ipynb>data table notebook</a>'\n",
              "          + ' to learn more about interactive tables.';\n",
              "        element.innerHTML = '';\n",
              "        dataTable['output_type'] = 'display_data';\n",
              "        await google.colab.output.renderOutput(dataTable, element);\n",
              "        const docLink = document.createElement('div');\n",
              "        docLink.innerHTML = docLinkHtml;\n",
              "        element.appendChild(docLink);\n",
              "      }\n",
              "    </script>\n",
              "  </div>\n",
              "\n",
              "\n",
              "<div id=\"df-090ff205-a1a1-4b2a-958a-9df1dbbe5b48\">\n",
              "  <button class=\"colab-df-quickchart\" onclick=\"quickchart('df-090ff205-a1a1-4b2a-958a-9df1dbbe5b48')\"\n",
              "            title=\"Suggest charts\"\n",
              "            style=\"display:none;\">\n",
              "\n",
              "<svg xmlns=\"http://www.w3.org/2000/svg\" height=\"24px\"viewBox=\"0 0 24 24\"\n",
              "     width=\"24px\">\n",
              "    <g>\n",
              "        <path d=\"M19 3H5c-1.1 0-2 .9-2 2v14c0 1.1.9 2 2 2h14c1.1 0 2-.9 2-2V5c0-1.1-.9-2-2-2zM9 17H7v-7h2v7zm4 0h-2V7h2v10zm4 0h-2v-4h2v4z\"/>\n",
              "    </g>\n",
              "</svg>\n",
              "  </button>\n",
              "\n",
              "<style>\n",
              "  .colab-df-quickchart {\n",
              "      --bg-color: #E8F0FE;\n",
              "      --fill-color: #1967D2;\n",
              "      --hover-bg-color: #E2EBFA;\n",
              "      --hover-fill-color: #174EA6;\n",
              "      --disabled-fill-color: #AAA;\n",
              "      --disabled-bg-color: #DDD;\n",
              "  }\n",
              "\n",
              "  [theme=dark] .colab-df-quickchart {\n",
              "      --bg-color: #3B4455;\n",
              "      --fill-color: #D2E3FC;\n",
              "      --hover-bg-color: #434B5C;\n",
              "      --hover-fill-color: #FFFFFF;\n",
              "      --disabled-bg-color: #3B4455;\n",
              "      --disabled-fill-color: #666;\n",
              "  }\n",
              "\n",
              "  .colab-df-quickchart {\n",
              "    background-color: var(--bg-color);\n",
              "    border: none;\n",
              "    border-radius: 50%;\n",
              "    cursor: pointer;\n",
              "    display: none;\n",
              "    fill: var(--fill-color);\n",
              "    height: 32px;\n",
              "    padding: 0;\n",
              "    width: 32px;\n",
              "  }\n",
              "\n",
              "  .colab-df-quickchart:hover {\n",
              "    background-color: var(--hover-bg-color);\n",
              "    box-shadow: 0 1px 2px rgba(60, 64, 67, 0.3), 0 1px 3px 1px rgba(60, 64, 67, 0.15);\n",
              "    fill: var(--button-hover-fill-color);\n",
              "  }\n",
              "\n",
              "  .colab-df-quickchart-complete:disabled,\n",
              "  .colab-df-quickchart-complete:disabled:hover {\n",
              "    background-color: var(--disabled-bg-color);\n",
              "    fill: var(--disabled-fill-color);\n",
              "    box-shadow: none;\n",
              "  }\n",
              "\n",
              "  .colab-df-spinner {\n",
              "    border: 2px solid var(--fill-color);\n",
              "    border-color: transparent;\n",
              "    border-bottom-color: var(--fill-color);\n",
              "    animation:\n",
              "      spin 1s steps(1) infinite;\n",
              "  }\n",
              "\n",
              "  @keyframes spin {\n",
              "    0% {\n",
              "      border-color: transparent;\n",
              "      border-bottom-color: var(--fill-color);\n",
              "      border-left-color: var(--fill-color);\n",
              "    }\n",
              "    20% {\n",
              "      border-color: transparent;\n",
              "      border-left-color: var(--fill-color);\n",
              "      border-top-color: var(--fill-color);\n",
              "    }\n",
              "    30% {\n",
              "      border-color: transparent;\n",
              "      border-left-color: var(--fill-color);\n",
              "      border-top-color: var(--fill-color);\n",
              "      border-right-color: var(--fill-color);\n",
              "    }\n",
              "    40% {\n",
              "      border-color: transparent;\n",
              "      border-right-color: var(--fill-color);\n",
              "      border-top-color: var(--fill-color);\n",
              "    }\n",
              "    60% {\n",
              "      border-color: transparent;\n",
              "      border-right-color: var(--fill-color);\n",
              "    }\n",
              "    80% {\n",
              "      border-color: transparent;\n",
              "      border-right-color: var(--fill-color);\n",
              "      border-bottom-color: var(--fill-color);\n",
              "    }\n",
              "    90% {\n",
              "      border-color: transparent;\n",
              "      border-bottom-color: var(--fill-color);\n",
              "    }\n",
              "  }\n",
              "</style>\n",
              "\n",
              "  <script>\n",
              "    async function quickchart(key) {\n",
              "      const quickchartButtonEl =\n",
              "        document.querySelector('#' + key + ' button');\n",
              "      quickchartButtonEl.disabled = true;  // To prevent multiple clicks.\n",
              "      quickchartButtonEl.classList.add('colab-df-spinner');\n",
              "      try {\n",
              "        const charts = await google.colab.kernel.invokeFunction(\n",
              "            'suggestCharts', [key], {});\n",
              "      } catch (error) {\n",
              "        console.error('Error during call to suggestCharts:', error);\n",
              "      }\n",
              "      quickchartButtonEl.classList.remove('colab-df-spinner');\n",
              "      quickchartButtonEl.classList.add('colab-df-quickchart-complete');\n",
              "    }\n",
              "    (() => {\n",
              "      let quickchartButtonEl =\n",
              "        document.querySelector('#df-090ff205-a1a1-4b2a-958a-9df1dbbe5b48 button');\n",
              "      quickchartButtonEl.style.display =\n",
              "        google.colab.kernel.accessAllowed ? 'block' : 'none';\n",
              "    })();\n",
              "  </script>\n",
              "</div>\n",
              "    </div>\n",
              "  </div>\n"
            ],
            "application/vnd.google.colaboratory.intrinsic+json": {
              "type": "dataframe",
              "variable_name": "df",
              "summary": "{\n  \"name\": \"df\",\n  \"rows\": 2167,\n  \"fields\": [\n    {\n      \"column\": \"Row\",\n      \"properties\": {\n        \"dtype\": \"number\",\n        \"std\": 625,\n        \"min\": 1,\n        \"max\": 2167,\n        \"num_unique_values\": 2167,\n        \"samples\": [\n          1487,\n          1603,\n          1461\n        ],\n        \"semantic_type\": \"\",\n        \"description\": \"\"\n      }\n    },\n    {\n      \"column\": \"Day\",\n      \"properties\": {\n        \"dtype\": \"category\",\n        \"num_unique_values\": 7,\n        \"samples\": [\n          \"Sunday\",\n          \"Monday\",\n          \"Friday\"\n        ],\n        \"semantic_type\": \"\",\n        \"description\": \"\"\n      }\n    },\n    {\n      \"column\": \"Day.Of.Week\",\n      \"properties\": {\n        \"dtype\": \"number\",\n        \"std\": 2,\n        \"min\": 1,\n        \"max\": 7,\n        \"num_unique_values\": 7,\n        \"samples\": [\n          1,\n          2,\n          6\n        ],\n        \"semantic_type\": \"\",\n        \"description\": \"\"\n      }\n    },\n    {\n      \"column\": \"Date\",\n      \"properties\": {\n        \"dtype\": \"object\",\n        \"num_unique_values\": 2167,\n        \"samples\": [\n          \"10/9/2018\",\n          \"2/2/2019\",\n          \"9/13/2018\"\n        ],\n        \"semantic_type\": \"\",\n        \"description\": \"\"\n      }\n    },\n    {\n      \"column\": \"Page.Loads\",\n      \"properties\": {\n        \"dtype\": \"number\",\n        \"std\": 1350.9778426999621,\n        \"min\": 1002.0,\n        \"max\": 7984.0,\n        \"num_unique_values\": 1756,\n        \"samples\": [\n          4006.0,\n          5894.0,\n          4305.0\n        ],\n        \"semantic_type\": \"\",\n        \"description\": \"\"\n      }\n    },\n    {\n      \"column\": \"Unique.Visits\",\n      \"properties\": {\n        \"dtype\": \"number\",\n        \"std\": 977.8864722214154,\n        \"min\": 667.0,\n        \"max\": 5541.0,\n        \"num_unique_values\": 1658,\n        \"samples\": [\n          3718.0,\n          1974.0,\n          3514.0\n        ],\n        \"semantic_type\": \"\",\n        \"description\": \"\"\n      }\n    },\n    {\n      \"column\": \"First.Time.Visits\",\n      \"properties\": {\n        \"dtype\": \"number\",\n        \"std\": 828.7046879557038,\n        \"min\": 522.0,\n        \"max\": 4616.0,\n        \"num_unique_values\": 1587,\n        \"samples\": [\n          3064.0,\n          1414.0,\n          2787.0\n        ],\n        \"semantic_type\": \"\",\n        \"description\": \"\"\n      }\n    },\n    {\n      \"column\": \"Returning.Visits\",\n      \"properties\": {\n        \"dtype\": \"number\",\n        \"std\": 168.73636957910765,\n        \"min\": 133.0,\n        \"max\": 1036.0,\n        \"num_unique_values\": 663,\n        \"samples\": [\n          326.0,\n          399.0,\n          344.0\n        ],\n        \"semantic_type\": \"\",\n        \"description\": \"\"\n      }\n    }\n  ]\n}"
            }
          },
          "metadata": {},
          "execution_count": 102
        }
      ]
    },
    {
      "cell_type": "code",
      "source": [
        "df['Date'] = pd.to_datetime(df['Date'])"
      ],
      "metadata": {
        "id": "lXUBwFHAb1JU"
      },
      "execution_count": null,
      "outputs": []
    },
    {
      "cell_type": "markdown",
      "source": [
        "Converting the Date column to datetime objects allows for easier manipulation of dates and enables us to set this column as the index of our DataFrame, facilitating time series analysis."
      ],
      "metadata": {
        "id": "oKliloZCOQiZ"
      }
    },
    {
      "cell_type": "code",
      "source": [
        "df.set_index('Date', inplace=True)"
      ],
      "metadata": {
        "id": "71JD3YQBOF6b"
      },
      "execution_count": null,
      "outputs": []
    },
    {
      "cell_type": "markdown",
      "source": [
        "By setting the Date column as the index, we can efficiently perform time-based operations and visualizations on our dataset."
      ],
      "metadata": {
        "id": "kuOIVD4vOUke"
      }
    },
    {
      "cell_type": "code",
      "source": [
        "df[\"Day.Of.Week.X\"], df[\"Day.Of.Week.Y\"] = np.sin(2 * np.pi * df[\"Day.Of.Week\"] / 7), np.cos(2 * np.pi * df[\"Day.Of.Week\"] / 7)\n",
        "df[\"Day.Of.Year.X\"], df[\"Day.Of.Year.Y\"] = np.sin(2 * np.pi * df.index.day_of_year / 365), np.cos(2 * np.pi * df.index.day_of_year / 365)"
      ],
      "metadata": {
        "id": "FLRXo7_WmtBH"
      },
      "execution_count": null,
      "outputs": []
    },
    {
      "cell_type": "markdown",
      "source": [
        "We transform Day.Of.Week and the day of the year into cyclical features using sine and cosine transformations. This approach captures the cyclical nature of these features, enabling the model to understand patterns such as weekends vs. weekdays or seasons in the year. (Help: https://medium.com/@axelazara6/why-we-need-encoding-cyclical-features-79ecc3531232)"
      ],
      "metadata": {
        "id": "MhAX38hxOb3P"
      }
    },
    {
      "cell_type": "code",
      "source": [
        "df = df.drop([\"Day\", \"Row\", \"Day.Of.Week\"], axis=1)"
      ],
      "metadata": {
        "id": "DVIUai_XmaNz"
      },
      "execution_count": null,
      "outputs": []
    },
    {
      "cell_type": "markdown",
      "source": [
        "We remove columns that are not necessary for our analysis or that have been replaced by engineered features. This step simplifies our dataset and focuses on the relevant information for forecasting."
      ],
      "metadata": {
        "id": "KeB0Z7PEOiR5"
      }
    },
    {
      "cell_type": "code",
      "source": [
        "df"
      ],
      "metadata": {
        "colab": {
          "base_uri": "https://localhost:8080/",
          "height": 455
        },
        "id": "3vqFLNDbnEwC",
        "outputId": "f6442344-c508-448a-ef2b-fb5bd994d34f"
      },
      "execution_count": null,
      "outputs": [
        {
          "output_type": "execute_result",
          "data": {
            "text/plain": [
              "            Page.Loads  Unique.Visits  First.Time.Visits  Returning.Visits  \\\n",
              "Date                                                                         \n",
              "2014-09-14      2146.0         1582.0             1430.0             152.0   \n",
              "2014-09-15      3621.0         2528.0             2297.0             231.0   \n",
              "2014-09-16      3698.0         2630.0             2352.0             278.0   \n",
              "2014-09-17      3667.0         2614.0             2327.0             287.0   \n",
              "2014-09-18      3316.0         2366.0             2130.0             236.0   \n",
              "...                ...            ...                ...               ...   \n",
              "2020-08-15      2221.0         1696.0             1373.0             323.0   \n",
              "2020-08-16      2724.0         2037.0             1686.0             351.0   \n",
              "2020-08-17      3456.0         2638.0             2181.0             457.0   \n",
              "2020-08-18      3581.0         2683.0             2184.0             499.0   \n",
              "2020-08-19      2064.0         1564.0             1297.0             267.0   \n",
              "\n",
              "            Day.Of.Week.X  Day.Of.Week.Y  Day.Of.Year.X  Day.Of.Year.Y  \n",
              "Date                                                                    \n",
              "2014-09-14   7.818315e-01       0.623490      -0.958718      -0.284359  \n",
              "2014-09-15   9.749279e-01      -0.222521      -0.963471      -0.267814  \n",
              "2014-09-16   4.338837e-01      -0.900969      -0.967938      -0.251190  \n",
              "2014-09-17  -4.338837e-01      -0.900969      -0.972118      -0.234491  \n",
              "2014-09-18  -9.749279e-01      -0.222521      -0.976011      -0.217723  \n",
              "...                   ...            ...            ...            ...  \n",
              "2020-08-15  -2.449294e-16       1.000000      -0.705584      -0.708627  \n",
              "2020-08-16   7.818315e-01       0.623490      -0.717677      -0.696376  \n",
              "2020-08-17   9.749279e-01      -0.222521      -0.729558      -0.683919  \n",
              "2020-08-18   4.338837e-01      -0.900969      -0.741222      -0.671260  \n",
              "2020-08-19  -4.338837e-01      -0.900969      -0.752667      -0.658402  \n",
              "\n",
              "[2167 rows x 8 columns]"
            ],
            "text/html": [
              "\n",
              "  <div id=\"df-0258324c-c359-4dbf-8b8d-d3759dcb0984\" class=\"colab-df-container\">\n",
              "    <div>\n",
              "<style scoped>\n",
              "    .dataframe tbody tr th:only-of-type {\n",
              "        vertical-align: middle;\n",
              "    }\n",
              "\n",
              "    .dataframe tbody tr th {\n",
              "        vertical-align: top;\n",
              "    }\n",
              "\n",
              "    .dataframe thead th {\n",
              "        text-align: right;\n",
              "    }\n",
              "</style>\n",
              "<table border=\"1\" class=\"dataframe\">\n",
              "  <thead>\n",
              "    <tr style=\"text-align: right;\">\n",
              "      <th></th>\n",
              "      <th>Page.Loads</th>\n",
              "      <th>Unique.Visits</th>\n",
              "      <th>First.Time.Visits</th>\n",
              "      <th>Returning.Visits</th>\n",
              "      <th>Day.Of.Week.X</th>\n",
              "      <th>Day.Of.Week.Y</th>\n",
              "      <th>Day.Of.Year.X</th>\n",
              "      <th>Day.Of.Year.Y</th>\n",
              "    </tr>\n",
              "    <tr>\n",
              "      <th>Date</th>\n",
              "      <th></th>\n",
              "      <th></th>\n",
              "      <th></th>\n",
              "      <th></th>\n",
              "      <th></th>\n",
              "      <th></th>\n",
              "      <th></th>\n",
              "      <th></th>\n",
              "    </tr>\n",
              "  </thead>\n",
              "  <tbody>\n",
              "    <tr>\n",
              "      <th>2014-09-14</th>\n",
              "      <td>2146.0</td>\n",
              "      <td>1582.0</td>\n",
              "      <td>1430.0</td>\n",
              "      <td>152.0</td>\n",
              "      <td>7.818315e-01</td>\n",
              "      <td>0.623490</td>\n",
              "      <td>-0.958718</td>\n",
              "      <td>-0.284359</td>\n",
              "    </tr>\n",
              "    <tr>\n",
              "      <th>2014-09-15</th>\n",
              "      <td>3621.0</td>\n",
              "      <td>2528.0</td>\n",
              "      <td>2297.0</td>\n",
              "      <td>231.0</td>\n",
              "      <td>9.749279e-01</td>\n",
              "      <td>-0.222521</td>\n",
              "      <td>-0.963471</td>\n",
              "      <td>-0.267814</td>\n",
              "    </tr>\n",
              "    <tr>\n",
              "      <th>2014-09-16</th>\n",
              "      <td>3698.0</td>\n",
              "      <td>2630.0</td>\n",
              "      <td>2352.0</td>\n",
              "      <td>278.0</td>\n",
              "      <td>4.338837e-01</td>\n",
              "      <td>-0.900969</td>\n",
              "      <td>-0.967938</td>\n",
              "      <td>-0.251190</td>\n",
              "    </tr>\n",
              "    <tr>\n",
              "      <th>2014-09-17</th>\n",
              "      <td>3667.0</td>\n",
              "      <td>2614.0</td>\n",
              "      <td>2327.0</td>\n",
              "      <td>287.0</td>\n",
              "      <td>-4.338837e-01</td>\n",
              "      <td>-0.900969</td>\n",
              "      <td>-0.972118</td>\n",
              "      <td>-0.234491</td>\n",
              "    </tr>\n",
              "    <tr>\n",
              "      <th>2014-09-18</th>\n",
              "      <td>3316.0</td>\n",
              "      <td>2366.0</td>\n",
              "      <td>2130.0</td>\n",
              "      <td>236.0</td>\n",
              "      <td>-9.749279e-01</td>\n",
              "      <td>-0.222521</td>\n",
              "      <td>-0.976011</td>\n",
              "      <td>-0.217723</td>\n",
              "    </tr>\n",
              "    <tr>\n",
              "      <th>...</th>\n",
              "      <td>...</td>\n",
              "      <td>...</td>\n",
              "      <td>...</td>\n",
              "      <td>...</td>\n",
              "      <td>...</td>\n",
              "      <td>...</td>\n",
              "      <td>...</td>\n",
              "      <td>...</td>\n",
              "    </tr>\n",
              "    <tr>\n",
              "      <th>2020-08-15</th>\n",
              "      <td>2221.0</td>\n",
              "      <td>1696.0</td>\n",
              "      <td>1373.0</td>\n",
              "      <td>323.0</td>\n",
              "      <td>-2.449294e-16</td>\n",
              "      <td>1.000000</td>\n",
              "      <td>-0.705584</td>\n",
              "      <td>-0.708627</td>\n",
              "    </tr>\n",
              "    <tr>\n",
              "      <th>2020-08-16</th>\n",
              "      <td>2724.0</td>\n",
              "      <td>2037.0</td>\n",
              "      <td>1686.0</td>\n",
              "      <td>351.0</td>\n",
              "      <td>7.818315e-01</td>\n",
              "      <td>0.623490</td>\n",
              "      <td>-0.717677</td>\n",
              "      <td>-0.696376</td>\n",
              "    </tr>\n",
              "    <tr>\n",
              "      <th>2020-08-17</th>\n",
              "      <td>3456.0</td>\n",
              "      <td>2638.0</td>\n",
              "      <td>2181.0</td>\n",
              "      <td>457.0</td>\n",
              "      <td>9.749279e-01</td>\n",
              "      <td>-0.222521</td>\n",
              "      <td>-0.729558</td>\n",
              "      <td>-0.683919</td>\n",
              "    </tr>\n",
              "    <tr>\n",
              "      <th>2020-08-18</th>\n",
              "      <td>3581.0</td>\n",
              "      <td>2683.0</td>\n",
              "      <td>2184.0</td>\n",
              "      <td>499.0</td>\n",
              "      <td>4.338837e-01</td>\n",
              "      <td>-0.900969</td>\n",
              "      <td>-0.741222</td>\n",
              "      <td>-0.671260</td>\n",
              "    </tr>\n",
              "    <tr>\n",
              "      <th>2020-08-19</th>\n",
              "      <td>2064.0</td>\n",
              "      <td>1564.0</td>\n",
              "      <td>1297.0</td>\n",
              "      <td>267.0</td>\n",
              "      <td>-4.338837e-01</td>\n",
              "      <td>-0.900969</td>\n",
              "      <td>-0.752667</td>\n",
              "      <td>-0.658402</td>\n",
              "    </tr>\n",
              "  </tbody>\n",
              "</table>\n",
              "<p>2167 rows × 8 columns</p>\n",
              "</div>\n",
              "    <div class=\"colab-df-buttons\">\n",
              "\n",
              "  <div class=\"colab-df-container\">\n",
              "    <button class=\"colab-df-convert\" onclick=\"convertToInteractive('df-0258324c-c359-4dbf-8b8d-d3759dcb0984')\"\n",
              "            title=\"Convert this dataframe to an interactive table.\"\n",
              "            style=\"display:none;\">\n",
              "\n",
              "  <svg xmlns=\"http://www.w3.org/2000/svg\" height=\"24px\" viewBox=\"0 -960 960 960\">\n",
              "    <path d=\"M120-120v-720h720v720H120Zm60-500h600v-160H180v160Zm220 220h160v-160H400v160Zm0 220h160v-160H400v160ZM180-400h160v-160H180v160Zm440 0h160v-160H620v160ZM180-180h160v-160H180v160Zm440 0h160v-160H620v160Z\"/>\n",
              "  </svg>\n",
              "    </button>\n",
              "\n",
              "  <style>\n",
              "    .colab-df-container {\n",
              "      display:flex;\n",
              "      gap: 12px;\n",
              "    }\n",
              "\n",
              "    .colab-df-convert {\n",
              "      background-color: #E8F0FE;\n",
              "      border: none;\n",
              "      border-radius: 50%;\n",
              "      cursor: pointer;\n",
              "      display: none;\n",
              "      fill: #1967D2;\n",
              "      height: 32px;\n",
              "      padding: 0 0 0 0;\n",
              "      width: 32px;\n",
              "    }\n",
              "\n",
              "    .colab-df-convert:hover {\n",
              "      background-color: #E2EBFA;\n",
              "      box-shadow: 0px 1px 2px rgba(60, 64, 67, 0.3), 0px 1px 3px 1px rgba(60, 64, 67, 0.15);\n",
              "      fill: #174EA6;\n",
              "    }\n",
              "\n",
              "    .colab-df-buttons div {\n",
              "      margin-bottom: 4px;\n",
              "    }\n",
              "\n",
              "    [theme=dark] .colab-df-convert {\n",
              "      background-color: #3B4455;\n",
              "      fill: #D2E3FC;\n",
              "    }\n",
              "\n",
              "    [theme=dark] .colab-df-convert:hover {\n",
              "      background-color: #434B5C;\n",
              "      box-shadow: 0px 1px 3px 1px rgba(0, 0, 0, 0.15);\n",
              "      filter: drop-shadow(0px 1px 2px rgba(0, 0, 0, 0.3));\n",
              "      fill: #FFFFFF;\n",
              "    }\n",
              "  </style>\n",
              "\n",
              "    <script>\n",
              "      const buttonEl =\n",
              "        document.querySelector('#df-0258324c-c359-4dbf-8b8d-d3759dcb0984 button.colab-df-convert');\n",
              "      buttonEl.style.display =\n",
              "        google.colab.kernel.accessAllowed ? 'block' : 'none';\n",
              "\n",
              "      async function convertToInteractive(key) {\n",
              "        const element = document.querySelector('#df-0258324c-c359-4dbf-8b8d-d3759dcb0984');\n",
              "        const dataTable =\n",
              "          await google.colab.kernel.invokeFunction('convertToInteractive',\n",
              "                                                    [key], {});\n",
              "        if (!dataTable) return;\n",
              "\n",
              "        const docLinkHtml = 'Like what you see? Visit the ' +\n",
              "          '<a target=\"_blank\" href=https://colab.research.google.com/notebooks/data_table.ipynb>data table notebook</a>'\n",
              "          + ' to learn more about interactive tables.';\n",
              "        element.innerHTML = '';\n",
              "        dataTable['output_type'] = 'display_data';\n",
              "        await google.colab.output.renderOutput(dataTable, element);\n",
              "        const docLink = document.createElement('div');\n",
              "        docLink.innerHTML = docLinkHtml;\n",
              "        element.appendChild(docLink);\n",
              "      }\n",
              "    </script>\n",
              "  </div>\n",
              "\n",
              "\n",
              "<div id=\"df-fab0d8e8-899f-46e9-a8f6-9a687f82ccc1\">\n",
              "  <button class=\"colab-df-quickchart\" onclick=\"quickchart('df-fab0d8e8-899f-46e9-a8f6-9a687f82ccc1')\"\n",
              "            title=\"Suggest charts\"\n",
              "            style=\"display:none;\">\n",
              "\n",
              "<svg xmlns=\"http://www.w3.org/2000/svg\" height=\"24px\"viewBox=\"0 0 24 24\"\n",
              "     width=\"24px\">\n",
              "    <g>\n",
              "        <path d=\"M19 3H5c-1.1 0-2 .9-2 2v14c0 1.1.9 2 2 2h14c1.1 0 2-.9 2-2V5c0-1.1-.9-2-2-2zM9 17H7v-7h2v7zm4 0h-2V7h2v10zm4 0h-2v-4h2v4z\"/>\n",
              "    </g>\n",
              "</svg>\n",
              "  </button>\n",
              "\n",
              "<style>\n",
              "  .colab-df-quickchart {\n",
              "      --bg-color: #E8F0FE;\n",
              "      --fill-color: #1967D2;\n",
              "      --hover-bg-color: #E2EBFA;\n",
              "      --hover-fill-color: #174EA6;\n",
              "      --disabled-fill-color: #AAA;\n",
              "      --disabled-bg-color: #DDD;\n",
              "  }\n",
              "\n",
              "  [theme=dark] .colab-df-quickchart {\n",
              "      --bg-color: #3B4455;\n",
              "      --fill-color: #D2E3FC;\n",
              "      --hover-bg-color: #434B5C;\n",
              "      --hover-fill-color: #FFFFFF;\n",
              "      --disabled-bg-color: #3B4455;\n",
              "      --disabled-fill-color: #666;\n",
              "  }\n",
              "\n",
              "  .colab-df-quickchart {\n",
              "    background-color: var(--bg-color);\n",
              "    border: none;\n",
              "    border-radius: 50%;\n",
              "    cursor: pointer;\n",
              "    display: none;\n",
              "    fill: var(--fill-color);\n",
              "    height: 32px;\n",
              "    padding: 0;\n",
              "    width: 32px;\n",
              "  }\n",
              "\n",
              "  .colab-df-quickchart:hover {\n",
              "    background-color: var(--hover-bg-color);\n",
              "    box-shadow: 0 1px 2px rgba(60, 64, 67, 0.3), 0 1px 3px 1px rgba(60, 64, 67, 0.15);\n",
              "    fill: var(--button-hover-fill-color);\n",
              "  }\n",
              "\n",
              "  .colab-df-quickchart-complete:disabled,\n",
              "  .colab-df-quickchart-complete:disabled:hover {\n",
              "    background-color: var(--disabled-bg-color);\n",
              "    fill: var(--disabled-fill-color);\n",
              "    box-shadow: none;\n",
              "  }\n",
              "\n",
              "  .colab-df-spinner {\n",
              "    border: 2px solid var(--fill-color);\n",
              "    border-color: transparent;\n",
              "    border-bottom-color: var(--fill-color);\n",
              "    animation:\n",
              "      spin 1s steps(1) infinite;\n",
              "  }\n",
              "\n",
              "  @keyframes spin {\n",
              "    0% {\n",
              "      border-color: transparent;\n",
              "      border-bottom-color: var(--fill-color);\n",
              "      border-left-color: var(--fill-color);\n",
              "    }\n",
              "    20% {\n",
              "      border-color: transparent;\n",
              "      border-left-color: var(--fill-color);\n",
              "      border-top-color: var(--fill-color);\n",
              "    }\n",
              "    30% {\n",
              "      border-color: transparent;\n",
              "      border-left-color: var(--fill-color);\n",
              "      border-top-color: var(--fill-color);\n",
              "      border-right-color: var(--fill-color);\n",
              "    }\n",
              "    40% {\n",
              "      border-color: transparent;\n",
              "      border-right-color: var(--fill-color);\n",
              "      border-top-color: var(--fill-color);\n",
              "    }\n",
              "    60% {\n",
              "      border-color: transparent;\n",
              "      border-right-color: var(--fill-color);\n",
              "    }\n",
              "    80% {\n",
              "      border-color: transparent;\n",
              "      border-right-color: var(--fill-color);\n",
              "      border-bottom-color: var(--fill-color);\n",
              "    }\n",
              "    90% {\n",
              "      border-color: transparent;\n",
              "      border-bottom-color: var(--fill-color);\n",
              "    }\n",
              "  }\n",
              "</style>\n",
              "\n",
              "  <script>\n",
              "    async function quickchart(key) {\n",
              "      const quickchartButtonEl =\n",
              "        document.querySelector('#' + key + ' button');\n",
              "      quickchartButtonEl.disabled = true;  // To prevent multiple clicks.\n",
              "      quickchartButtonEl.classList.add('colab-df-spinner');\n",
              "      try {\n",
              "        const charts = await google.colab.kernel.invokeFunction(\n",
              "            'suggestCharts', [key], {});\n",
              "      } catch (error) {\n",
              "        console.error('Error during call to suggestCharts:', error);\n",
              "      }\n",
              "      quickchartButtonEl.classList.remove('colab-df-spinner');\n",
              "      quickchartButtonEl.classList.add('colab-df-quickchart-complete');\n",
              "    }\n",
              "    (() => {\n",
              "      let quickchartButtonEl =\n",
              "        document.querySelector('#df-fab0d8e8-899f-46e9-a8f6-9a687f82ccc1 button');\n",
              "      quickchartButtonEl.style.display =\n",
              "        google.colab.kernel.accessAllowed ? 'block' : 'none';\n",
              "    })();\n",
              "  </script>\n",
              "</div>\n",
              "    </div>\n",
              "  </div>\n"
            ],
            "application/vnd.google.colaboratory.intrinsic+json": {
              "type": "dataframe",
              "variable_name": "df",
              "summary": "{\n  \"name\": \"df\",\n  \"rows\": 2167,\n  \"fields\": [\n    {\n      \"column\": \"Date\",\n      \"properties\": {\n        \"dtype\": \"date\",\n        \"min\": \"2014-09-14 00:00:00\",\n        \"max\": \"2020-08-19 00:00:00\",\n        \"num_unique_values\": 2167,\n        \"samples\": [\n          \"2018-10-09 00:00:00\",\n          \"2019-02-02 00:00:00\",\n          \"2018-09-13 00:00:00\"\n        ],\n        \"semantic_type\": \"\",\n        \"description\": \"\"\n      }\n    },\n    {\n      \"column\": \"Page.Loads\",\n      \"properties\": {\n        \"dtype\": \"number\",\n        \"std\": 1350.9778426999621,\n        \"min\": 1002.0,\n        \"max\": 7984.0,\n        \"num_unique_values\": 1756,\n        \"samples\": [\n          4006.0,\n          5894.0,\n          4305.0\n        ],\n        \"semantic_type\": \"\",\n        \"description\": \"\"\n      }\n    },\n    {\n      \"column\": \"Unique.Visits\",\n      \"properties\": {\n        \"dtype\": \"number\",\n        \"std\": 977.8864722214154,\n        \"min\": 667.0,\n        \"max\": 5541.0,\n        \"num_unique_values\": 1658,\n        \"samples\": [\n          3718.0,\n          1974.0,\n          3514.0\n        ],\n        \"semantic_type\": \"\",\n        \"description\": \"\"\n      }\n    },\n    {\n      \"column\": \"First.Time.Visits\",\n      \"properties\": {\n        \"dtype\": \"number\",\n        \"std\": 828.7046879557038,\n        \"min\": 522.0,\n        \"max\": 4616.0,\n        \"num_unique_values\": 1587,\n        \"samples\": [\n          3064.0,\n          1414.0,\n          2787.0\n        ],\n        \"semantic_type\": \"\",\n        \"description\": \"\"\n      }\n    },\n    {\n      \"column\": \"Returning.Visits\",\n      \"properties\": {\n        \"dtype\": \"number\",\n        \"std\": 168.73636957910765,\n        \"min\": 133.0,\n        \"max\": 1036.0,\n        \"num_unique_values\": 663,\n        \"samples\": [\n          326.0,\n          399.0,\n          344.0\n        ],\n        \"semantic_type\": \"\",\n        \"description\": \"\"\n      }\n    },\n    {\n      \"column\": \"Day.Of.Week.X\",\n      \"properties\": {\n        \"dtype\": \"number\",\n        \"std\": 0.7072493735051449,\n        \"min\": -0.9749279121818236,\n        \"max\": 0.9749279121818236,\n        \"num_unique_values\": 7,\n        \"samples\": [\n          0.7818314824680298,\n          0.9749279121818236,\n          -0.7818314824680299\n        ],\n        \"semantic_type\": \"\",\n        \"description\": \"\"\n      }\n    },\n    {\n      \"column\": \"Day.Of.Week.Y\",\n      \"properties\": {\n        \"dtype\": \"number\",\n        \"std\": 0.7072898476007583,\n        \"min\": -0.9009688679024191,\n        \"max\": 1.0,\n        \"num_unique_values\": 7,\n        \"samples\": [\n          0.6234898018587336,\n          -0.22252093395631434,\n          0.6234898018587334\n        ],\n        \"semantic_type\": \"\",\n        \"description\": \"\"\n      }\n    },\n    {\n      \"column\": \"Day.Of.Year.X\",\n      \"properties\": {\n        \"dtype\": \"number\",\n        \"std\": 0.705003556503053,\n        \"min\": -0.9999907397361901,\n        \"max\": 0.9999907397361901,\n        \"num_unique_values\": 366,\n        \"samples\": [\n          0.994217906893952,\n          -0.9611297838723007,\n          -0.9995462806873573\n        ],\n        \"semantic_type\": \"\",\n        \"description\": \"\"\n      }\n    },\n    {\n      \"column\": \"Day.Of.Year.Y\",\n      \"properties\": {\n        \"dtype\": \"number\",\n        \"std\": 0.7094402135131097,\n        \"min\": -0.9999629591162655,\n        \"max\": 1.0,\n        \"num_unique_values\": 338,\n        \"samples\": [\n          0.9962981749346078,\n          -0.3657225234972692,\n          -0.06450844944931623\n        ],\n        \"semantic_type\": \"\",\n        \"description\": \"\"\n      }\n    }\n  ]\n}"
            }
          },
          "metadata": {},
          "execution_count": 107
        }
      ]
    },
    {
      "cell_type": "markdown",
      "source": [
        "**Splitting, Scaling, and Sequence Handling**"
      ],
      "metadata": {
        "id": "drXtAGLaO6Ug"
      }
    },
    {
      "cell_type": "markdown",
      "source": [
        "Having preprocessed our dataset, we now move towards preparing it for modeling. This involves splitting the dataset into training, validation, and test sets, scaling the features, and creating sequences that our model can learn from. These steps are essential for effective model training and evaluation in time series forecasting."
      ],
      "metadata": {
        "id": "a9lWEpQePDWB"
      }
    },
    {
      "cell_type": "markdown",
      "source": [
        "We **split** our dataset based on time, ensuring that the model is trained on past data and validated and tested on unseen future data. This approach simulates real-world forecasting scenarios:"
      ],
      "metadata": {
        "id": "JQ03_LvfPHei"
      }
    },
    {
      "cell_type": "code",
      "source": [
        "train_start = pd.Timestamp(\"2014\")\n",
        "valid_start = pd.Timestamp(\"2018\")\n",
        "test_start = pd.Timestamp(\"2020\")\n",
        "train_df = df[(df.index >= train_start) & (df.index < valid_start)].copy()\n",
        "valid_df = df[(df.index >= valid_start) & (df.index < test_start)].copy()\n",
        "test_df = df[(df.index >= test_start)].copy()"
      ],
      "metadata": {
        "id": "IIgapeoRKUUg"
      },
      "execution_count": null,
      "outputs": []
    },
    {
      "cell_type": "markdown",
      "source": [
        "By dividing the data this way, we can train the model on data from 2014 to 2017, validate its performance on data from 2018 to 2019, and finally test it on data from 2020 onwards."
      ],
      "metadata": {
        "id": "ZKjQYIfIPLHJ"
      }
    },
    {
      "cell_type": "markdown",
      "source": [
        "**Scaling** is a critical preprocessing step in many machine learning workflows, especially for neural networks. It ensures that all input features and target variables have a similar scale, which can significantly impact the model's convergence speed and overall performance:"
      ],
      "metadata": {
        "id": "ufiYp2YfPTtn"
      }
    },
    {
      "cell_type": "code",
      "source": [
        "scaler_input = StandardScaler()\n",
        "scaler_output = StandardScaler()\n",
        "\n",
        "scaled_train = scaler_input.fit_transform(train_df)\n",
        "target_train = scaler_output.fit_transform(train_df[[\"First.Time.Visits\"]])\n",
        "scaled_valid = scaler_input.transform(valid_df)\n",
        "target_valid = scaler_output.transform(valid_df[[\"First.Time.Visits\"]])\n",
        "scaled_test = scaler_input.transform(test_df)\n",
        "target_test = scaler_output.transform(test_df[[\"First.Time.Visits\"]])"
      ],
      "metadata": {
        "id": "pqdkHUHFSylW"
      },
      "execution_count": null,
      "outputs": []
    },
    {
      "cell_type": "markdown",
      "source": [
        "Here, we use StandardScaler to standardize our features and target variable, ensuring they're centered around zero with a standard deviation of one."
      ],
      "metadata": {
        "id": "IK-Clbr0PY-x"
      }
    },
    {
      "cell_type": "markdown",
      "source": [
        "For time series forecasting, especially with neural networks like RNNs or LSTMs, it's beneficial to frame the dataset into **sequences of a specific length**. This structure allows the model to learn from a fixed number of past observations to predict future values:"
      ],
      "metadata": {
        "id": "H0XLSoaSPdr-"
      }
    },
    {
      "cell_type": "code",
      "source": [
        "def process_Xy(raw_X: np.array, raw_y: np.array, lookback: int) -> np.array:\n",
        "        X = np.empty(shape=(raw_X.shape[0] - lookback, lookback , raw_X.shape[1]), dtype=np.float32)\n",
        "        y = np.empty(shape=(raw_y.shape[0] - lookback), dtype=np.float32)\n",
        "\n",
        "        target_index = 0\n",
        "        for i in range(lookback, raw_X.shape[0]):\n",
        "            X[target_index] = raw_X[i - lookback : i]\n",
        "            y[target_index] = raw_y[i]\n",
        "            target_index += 1\n",
        "\n",
        "        return X.copy(), y.copy()"
      ],
      "metadata": {
        "id": "0YzVf1nrTpJl"
      },
      "execution_count": null,
      "outputs": []
    },
    {
      "cell_type": "markdown",
      "source": [
        "By creating a process_Xy function, we generate input sequences (X) and corresponding targets (y) for our model, using a lookback period that defines how many previous time steps the model should consider for predicting the next step."
      ],
      "metadata": {
        "id": "ujCueZq7PloD"
      }
    },
    {
      "cell_type": "code",
      "source": [
        "lookback = 10\n",
        "train_X, train_y = process_Xy(scaled_train, target_train, lookback=lookback)\n",
        "valid_X, valid_y = process_Xy(scaled_valid, target_valid, lookback=lookback)\n",
        "test_X, test_y = process_Xy(scaled_test, target_test, lookback=lookback)"
      ],
      "metadata": {
        "colab": {
          "base_uri": "https://localhost:8080/"
        },
        "id": "X8XxRSU2Ujf9",
        "outputId": "b7970b0d-63e8-4f2a-9f40-ace29ebc0c9e"
      },
      "execution_count": null,
      "outputs": [
        {
          "output_type": "stream",
          "name": "stderr",
          "text": [
            "<ipython-input-110-fa7f67de0456>:8: DeprecationWarning: Conversion of an array with ndim > 0 to a scalar is deprecated, and will error in future. Ensure you extract a single element from your array before performing this operation. (Deprecated NumPy 1.25.)\n",
            "  y[target_index] = raw_y[i]\n"
          ]
        }
      ]
    },
    {
      "cell_type": "markdown",
      "source": [
        "Setting lookback to 10 days means the model will use the past 10 days of data to make predictions. This setup provides a practical foundation for our model to learn and predict future values based on historical sequences of data."
      ],
      "metadata": {
        "id": "6psphiPmPqtE"
      }
    },
    {
      "cell_type": "markdown",
      "source": [
        "**Model Building, Training, Validating, Testing, and Visualizing**"
      ],
      "metadata": {
        "id": "bkhgIYTgQNW7"
      }
    },
    {
      "cell_type": "markdown",
      "source": [
        "After preparing and preprocessing our data, the next crucial steps are building the forecasting model, training it on the training set, validating its performance on the validation set, and testing its final predictive capability on the test set. We will also visualize the model's training process and compare its predictions with the actual data. Let's delve into each of these steps:"
      ],
      "metadata": {
        "id": "VpEx1NTdQUkj"
      }
    },
    {
      "cell_type": "markdown",
      "source": [
        "We construct our model using Keras's Sequential API, which allows us to linearly stack layers. Here, we utilize an LSTM (Long Short-Term Memory) layer followed by a Dense layer for output:"
      ],
      "metadata": {
        "id": "o6IWofgLQXoJ"
      }
    },
    {
      "cell_type": "code",
      "source": [
        "model = keras.Sequential(\n",
        "    [\n",
        "        layers.LSTM(16, activation=\"relu\", input_shape = train_X.shape[1:]),\n",
        "        layers.Dense(1),\n",
        "    ]\n",
        ")"
      ],
      "metadata": {
        "id": "J5ROYz8iVk5n"
      },
      "execution_count": null,
      "outputs": []
    },
    {
      "cell_type": "markdown",
      "source": [
        "The LSTM layer with 16 units is chosen for its ability to remember long-term dependencies, a crucial feature for time series data.\n",
        "\n",
        "The input_shape argument is set to the shape of our training data, ensuring the model can process the input sequences correctly.\n",
        "\n",
        "A Dense layer with a single unit is used to output the forecasted value."
      ],
      "metadata": {
        "id": "S5yyrGiuQfOI"
      }
    },
    {
      "cell_type": "code",
      "source": [
        "model.compile(loss='MeanSquaredError', optimizer='Adam')"
      ],
      "metadata": {
        "id": "fOzQqcpGWaRf"
      },
      "execution_count": null,
      "outputs": []
    },
    {
      "cell_type": "markdown",
      "source": [
        "We compile the model using the Mean Squared Error loss function, suitable for regression tasks like ours, and the Adam optimizer, known for its efficiency in adjusting the model's weights."
      ],
      "metadata": {
        "id": "fgc8wBiQQnBW"
      }
    },
    {
      "cell_type": "code",
      "source": [
        "model.summary()"
      ],
      "metadata": {
        "colab": {
          "base_uri": "https://localhost:8080/"
        },
        "id": "O5W1UGA6WvkG",
        "outputId": "5c7edbe4-f9af-4c3d-9817-7fba9df1c304"
      },
      "execution_count": null,
      "outputs": [
        {
          "output_type": "stream",
          "name": "stdout",
          "text": [
            "Model: \"sequential_7\"\n",
            "_________________________________________________________________\n",
            " Layer (type)                Output Shape              Param #   \n",
            "=================================================================\n",
            " lstm_5 (LSTM)               (None, 16)                1600      \n",
            "                                                                 \n",
            " dense_8 (Dense)             (None, 1)                 17        \n",
            "                                                                 \n",
            "=================================================================\n",
            "Total params: 1617 (6.32 KB)\n",
            "Trainable params: 1617 (6.32 KB)\n",
            "Non-trainable params: 0 (0.00 Byte)\n",
            "_________________________________________________________________\n"
          ]
        }
      ]
    },
    {
      "cell_type": "markdown",
      "source": [
        "Viewing the model summary provides insight into the architecture, including the number of parameters to be trained."
      ],
      "metadata": {
        "id": "HnTHEKHrQqUh"
      }
    },
    {
      "cell_type": "markdown",
      "source": [
        "We train the model with the EarlyStopping callback to prevent overfitting, stopping the training if the validation loss does not improve for 10 consecutive epochs:"
      ],
      "metadata": {
        "id": "C5KOfUXtQuJk"
      }
    },
    {
      "cell_type": "code",
      "source": [
        "callbacks = [EarlyStopping(monitor=\"val_loss\", patience=10)]"
      ],
      "metadata": {
        "id": "jgB9RfxiWxG2"
      },
      "execution_count": null,
      "outputs": []
    },
    {
      "cell_type": "code",
      "source": [
        "history = model.fit(\n",
        "            train_X,\n",
        "            train_y,\n",
        "            validation_data=(valid_X, valid_y),\n",
        "            batch_size=16,\n",
        "            epochs=100,\n",
        "            callbacks=callbacks,\n",
        "            shuffle=True,\n",
        "            verbose=True,\n",
        "        )"
      ],
      "metadata": {
        "colab": {
          "base_uri": "https://localhost:8080/"
        },
        "id": "oA4W56bzXRd-",
        "outputId": "c7fd302e-99fd-44c2-81a9-4af52ab170b1"
      },
      "execution_count": null,
      "outputs": [
        {
          "output_type": "stream",
          "name": "stdout",
          "text": [
            "Epoch 1/100\n",
            "75/75 [==============================] - 2s 11ms/step - loss: 1.3499 - val_loss: 0.6755\n",
            "Epoch 2/100\n",
            "75/75 [==============================] - 1s 8ms/step - loss: 0.4359 - val_loss: 0.3051\n",
            "Epoch 3/100\n",
            "75/75 [==============================] - 1s 8ms/step - loss: 0.2228 - val_loss: 0.1601\n",
            "Epoch 4/100\n",
            "75/75 [==============================] - 1s 10ms/step - loss: 0.1412 - val_loss: 0.1283\n",
            "Epoch 5/100\n",
            "75/75 [==============================] - 1s 9ms/step - loss: 0.1143 - val_loss: 0.1102\n",
            "Epoch 6/100\n",
            "75/75 [==============================] - 1s 10ms/step - loss: 0.0929 - val_loss: 0.0915\n",
            "Epoch 7/100\n",
            "75/75 [==============================] - 1s 9ms/step - loss: 0.0768 - val_loss: 0.0799\n",
            "Epoch 8/100\n",
            "75/75 [==============================] - 1s 7ms/step - loss: 0.0631 - val_loss: 0.0754\n",
            "Epoch 9/100\n",
            "75/75 [==============================] - 1s 7ms/step - loss: 0.0561 - val_loss: 0.0754\n",
            "Epoch 10/100\n",
            "75/75 [==============================] - 1s 8ms/step - loss: 0.0508 - val_loss: 0.0715\n",
            "Epoch 11/100\n",
            "75/75 [==============================] - 1s 8ms/step - loss: 0.0479 - val_loss: 0.0667\n",
            "Epoch 12/100\n",
            "75/75 [==============================] - 1s 8ms/step - loss: 0.0459 - val_loss: 0.0616\n",
            "Epoch 13/100\n",
            "75/75 [==============================] - 1s 7ms/step - loss: 0.0441 - val_loss: 0.0711\n",
            "Epoch 14/100\n",
            "75/75 [==============================] - 1s 8ms/step - loss: 0.0419 - val_loss: 0.0640\n",
            "Epoch 15/100\n",
            "75/75 [==============================] - 1s 7ms/step - loss: 0.0405 - val_loss: 0.0585\n",
            "Epoch 16/100\n",
            "75/75 [==============================] - 1s 7ms/step - loss: 0.0396 - val_loss: 0.0511\n",
            "Epoch 17/100\n",
            "75/75 [==============================] - 1s 7ms/step - loss: 0.0383 - val_loss: 0.0553\n",
            "Epoch 18/100\n",
            "75/75 [==============================] - 1s 8ms/step - loss: 0.0374 - val_loss: 0.0528\n",
            "Epoch 19/100\n",
            "75/75 [==============================] - 1s 8ms/step - loss: 0.0377 - val_loss: 0.0603\n",
            "Epoch 20/100\n",
            "75/75 [==============================] - 1s 8ms/step - loss: 0.0371 - val_loss: 0.0496\n",
            "Epoch 21/100\n",
            "75/75 [==============================] - 1s 7ms/step - loss: 0.0369 - val_loss: 0.0483\n",
            "Epoch 22/100\n",
            "75/75 [==============================] - 1s 8ms/step - loss: 0.0363 - val_loss: 0.0553\n",
            "Epoch 23/100\n",
            "75/75 [==============================] - 1s 8ms/step - loss: 0.0366 - val_loss: 0.0556\n",
            "Epoch 24/100\n",
            "75/75 [==============================] - 1s 7ms/step - loss: 0.0359 - val_loss: 0.0508\n",
            "Epoch 25/100\n",
            "75/75 [==============================] - 1s 12ms/step - loss: 0.0352 - val_loss: 0.0545\n",
            "Epoch 26/100\n",
            "75/75 [==============================] - 1s 11ms/step - loss: 0.0361 - val_loss: 0.0543\n",
            "Epoch 27/100\n",
            "75/75 [==============================] - 1s 11ms/step - loss: 0.0343 - val_loss: 0.0635\n",
            "Epoch 28/100\n",
            "75/75 [==============================] - 1s 7ms/step - loss: 0.0342 - val_loss: 0.0586\n",
            "Epoch 29/100\n",
            "75/75 [==============================] - 1s 7ms/step - loss: 0.0343 - val_loss: 0.0517\n",
            "Epoch 30/100\n",
            "75/75 [==============================] - 1s 7ms/step - loss: 0.0351 - val_loss: 0.0665\n",
            "Epoch 31/100\n",
            "75/75 [==============================] - 1s 8ms/step - loss: 0.0345 - val_loss: 0.0450\n",
            "Epoch 32/100\n",
            "75/75 [==============================] - 1s 7ms/step - loss: 0.0347 - val_loss: 0.0524\n",
            "Epoch 33/100\n",
            "75/75 [==============================] - 1s 7ms/step - loss: 0.0340 - val_loss: 0.0503\n",
            "Epoch 34/100\n",
            "75/75 [==============================] - 1s 7ms/step - loss: 0.0339 - val_loss: 0.0543\n",
            "Epoch 35/100\n",
            "75/75 [==============================] - 1s 7ms/step - loss: 0.0337 - val_loss: 0.0501\n",
            "Epoch 36/100\n",
            "75/75 [==============================] - 1s 7ms/step - loss: 0.0338 - val_loss: 0.0465\n",
            "Epoch 37/100\n",
            "75/75 [==============================] - 1s 7ms/step - loss: 0.0331 - val_loss: 0.0458\n",
            "Epoch 38/100\n",
            "75/75 [==============================] - 1s 8ms/step - loss: 0.0328 - val_loss: 0.0524\n",
            "Epoch 39/100\n",
            "75/75 [==============================] - 1s 8ms/step - loss: 0.0333 - val_loss: 0.0497\n",
            "Epoch 40/100\n",
            "75/75 [==============================] - 1s 8ms/step - loss: 0.0333 - val_loss: 0.0504\n",
            "Epoch 41/100\n",
            "75/75 [==============================] - 1s 8ms/step - loss: 0.0329 - val_loss: 0.0572\n"
          ]
        }
      ]
    },
    {
      "cell_type": "markdown",
      "source": [
        "Visualizing Training and Validation Loss"
      ],
      "metadata": {
        "id": "KNfY1jrJQ0rP"
      }
    },
    {
      "cell_type": "code",
      "source": [
        "plt.plot(history.history['loss'], label='Training Loss')\n",
        "plt.plot(history.history['val_loss'], label='Validation Loss')\n",
        "plt.title('Model Training and Validation Loss')\n",
        "plt.xlabel('Epochs')\n",
        "plt.ylabel('Loss')\n",
        "plt.legend()\n",
        "plt.show()"
      ],
      "metadata": {
        "colab": {
          "base_uri": "https://localhost:8080/",
          "height": 472
        },
        "id": "Vqtxq1nuXWkm",
        "outputId": "90157d2d-c855-426c-f871-2f90c41bb504"
      },
      "execution_count": null,
      "outputs": [
        {
          "output_type": "display_data",
          "data": {
            "text/plain": [
              "<Figure size 640x480 with 1 Axes>"
            ],
            "image/png": "[encoded data removed]"
          },
          "metadata": {}
        }
      ]
    },
    {
      "cell_type": "markdown",
      "source": [
        "This plot helps us understand how the model's performance improved over time and whether it is overfitting or underfitting the training data."
      ],
      "metadata": {
        "id": "I2HbLqhbQ91y"
      }
    },
    {
      "cell_type": "markdown",
      "source": [
        "Finally, we use the model to make predictions on the test set and visualize these predictions alongside the actual data:"
      ],
      "metadata": {
        "id": "nDUxsk2ARAgx"
      }
    },
    {
      "cell_type": "code",
      "source": [
        "pred = model.predict(test_X)\n",
        "plt.figure(figsize=(10, 6))\n",
        "plt.plot(test_df[\"First.Time.Visits\"], label=\"Real\", color='blue')\n",
        "plt.plot(pd.DataFrame(index=test_df.index[lookback:], data=scaler_output.inverse_transform(pred)), label=\"Predicted\", color='red')\n",
        "plt.xticks(rotation=45)\n",
        "plt.title('Actual vs Predicted First Time Visits')\n",
        "plt.xlabel('Date')\n",
        "plt.ylabel('First Time Visits')\n",
        "plt.legend()\n",
        "plt.show()"
      ],
      "metadata": {
        "colab": {
          "base_uri": "https://localhost:8080/",
          "height": 618
        },
        "id": "hSWAXsPzqFRl",
        "outputId": "57ae5a04-c457-466f-da70-bea7e434beb2"
      },
      "execution_count": null,
      "outputs": [
        {
          "output_type": "stream",
          "name": "stdout",
          "text": [
            "7/7 [==============================] - 1s 7ms/step\n"
          ]
        },
        {
          "output_type": "display_data",
          "data": {
            "text/plain": [
              "<Figure size 1000x600 with 1 Axes>"
            ],
            "image/png": "[encoded data removed]"
          },
          "metadata": {}
        }
      ]
    },
    {
      "cell_type": "markdown",
      "source": [
        "The predicted values are scaled back to their original range using scaler_output.inverse_transform for a direct comparison with the actual data.\n",
        "This visualization allows us to assess the model's predictive accuracy visually, comparing its forecasts against the true outcomes."
      ],
      "metadata": {
        "id": "SAQe5UayRL_a"
      }
    },
    {
      "cell_type": "markdown",
      "source": [
        "**Exercises to Complete:**\n",
        "\n",
        "\n",
        "1.   Repeat the same process for Page.Loads, Unique.Visits, and Returning.Visits.\n",
        "2.   For Page.Loads, visualize both the actual and the predicted values for the validation set as well.\n",
        "3.   Experiment with a GRU (Gated Recurrent Unit)-based network for Page.Loads, and try implementing a network with multiple Dense layers after the GRU layer.\n",
        "4.   Conduct the forecasting process for the meantemp column in DailyDelhiClimate.csv. Note that the meanpressure column contains outliers; filter these out first to ensure numerical stability. Set the training, validation, and testing periods to start in 2013, 2016, and 2017, respectively. Only include cyclical features for \"day-of-the-year,\" omitting \"day-of-the-week\".\n",
        "+1.  Why can we omit the \"day-of-the-week\" analysis?"
      ],
      "metadata": {
        "id": "0QJD8NIvRe1j"
      }
    },
    {
      "cell_type": "markdown",
      "source": [
        "**Exercise 1**"
      ],
      "metadata": {
        "id": "SPq8eiUoVPgn"
      }
    },
    {
      "cell_type": "code",
      "source": [
        "# Place for your code"
      ],
      "metadata": {
        "id": "AiQNeZjkVklH"
      },
      "execution_count": null,
      "outputs": []
    },
    {
      "cell_type": "markdown",
      "source": [
        "**Exercise 2**"
      ],
      "metadata": {
        "id": "K-izbBf9VUH7"
      }
    },
    {
      "cell_type": "code",
      "source": [
        "# Place for your code"
      ],
      "metadata": {
        "id": "xvs7SNOGVk8W"
      },
      "execution_count": null,
      "outputs": []
    },
    {
      "cell_type": "markdown",
      "source": [
        "**Exercise 3**"
      ],
      "metadata": {
        "id": "T_BRYLv4VUyW"
      }
    },
    {
      "cell_type": "code",
      "source": [
        "# Place for your code"
      ],
      "metadata": {
        "id": "3BtdxtdbVlUH"
      },
      "execution_count": null,
      "outputs": []
    },
    {
      "cell_type": "markdown",
      "source": [
        "**Exercise 4**"
      ],
      "metadata": {
        "id": "DKUMbeEJVVxZ"
      }
    },
    {
      "cell_type": "code",
      "source": [
        "# Place for your code"
      ],
      "metadata": {
        "id": "ctlpcZhFVmGR"
      },
      "execution_count": null,
      "outputs": []
    },
    {
      "cell_type": "markdown",
      "source": [
        "**Exercise +1**"
      ],
      "metadata": {
        "id": "zPxT9SAeVm7l"
      }
    },
    {
      "cell_type": "markdown",
      "source": [
        "Place for your answer"
      ],
      "metadata": {
        "id": "ANPacxbsVxuj"
      }
    }
  ]
}